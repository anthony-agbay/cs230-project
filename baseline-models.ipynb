{
 "cells": [
  {
   "cell_type": "markdown",
   "metadata": {},
   "source": [
    "# Baseline Models\n",
    "\n",
    "We will develop the baseline neural network model (one hidden layer, 3-node softmax output) for comparisons for later architectures."
   ]
  },
  {
   "cell_type": "code",
   "execution_count": 90,
   "metadata": {},
   "outputs": [],
   "source": [
    "# Imports\n",
    "import pandas as pd\n",
    "import matplotlib.pyplot as plt\n",
    "import seaborn as sns\n",
    "import numpy as np\n",
    "from keras import optimizers\n",
    "from keras.models import Sequential\n",
    "from keras.layers import Dense\n",
    "from keras.wrappers.scikit_learn import KerasClassifier\n",
    "from keras.utils import np_utils\n",
    "from sklearn.model_selection import cross_val_score\n",
    "from sklearn.model_selection import KFold\n",
    "from sklearn.preprocessing import LabelEncoder\n",
    "from sklearn.preprocessing import scale\n",
    "from sklearn.preprocessing import StandardScaler\n",
    "from sklearn.metrics import precision_score\n",
    "from sklearn.metrics import confusion_matrix\n",
    "from sklearn.pipeline import Pipeline"
   ]
  },
  {
   "cell_type": "code",
   "execution_count": 66,
   "metadata": {},
   "outputs": [],
   "source": [
    "# Reading in Data\n",
    "data_path = 'data/merged.csv'\n",
    "data = pd.read_csv(data_path)"
   ]
  },
  {
   "cell_type": "code",
   "execution_count": 67,
   "metadata": {},
   "outputs": [],
   "source": [
    "# Function to convert data to classification\n",
    "def label_type(row):\n",
    "    \"\"\" Converts continuous label to categorical label\n",
    "    \"\"\"\n",
    "    if row['scaled_effect'] < .95:\n",
    "        return('Deleterious')\n",
    "    elif row['scaled_effect'] > 1.05:\n",
    "        return('Beneficial')\n",
    "    else:\n",
    "        return('Neutral')"
   ]
  },
  {
   "cell_type": "code",
   "execution_count": 68,
   "metadata": {},
   "outputs": [],
   "source": [
    "# Change to classification\n",
    "data['type'] = data.apply(lambda row: label_type(row), axis = 1)\n",
    "data_final = data.drop(['scaled_effect'], axis=1)"
   ]
  },
  {
   "cell_type": "code",
   "execution_count": 98,
   "metadata": {},
   "outputs": [],
   "source": [
    "# LOPO Splitting\n",
    "def train_test_split(protein, curr_data):\n",
    "    train_data = curr_data[curr_data.protein != protein].drop(['protein', 'pdb', 'resnum'], axis=1)\n",
    "    test_data = curr_data[curr_data.protein == protein].drop(['protein', 'pdb', 'resnum'], axis=1)\n",
    "    \n",
    "    y_train = train_data.type\n",
    "    encoder = LabelEncoder()\n",
    "    encoder.fit(y_train)\n",
    "    encoded_y_train = encoder.transform(y_train)\n",
    "    y_train_oh = np_utils.to_categorical(encoded_y_train)\n",
    "    \n",
    "    scaler_train = StandardScaler()\n",
    "    x_train = train_data.drop(['type'], axis=1)\n",
    "    x_columns = x_train.columns\n",
    "    x_train = scaler_train.fit_transform(x_train)\n",
    "    x_train = pd.DataFrame(x_train, columns=x_columns)\n",
    "    \n",
    "    y_test = test_data.type\n",
    "    encoder = LabelEncoder()\n",
    "    encoder.fit(y_test)\n",
    "    encoded_y_test = encoder.transform(y_test)\n",
    "    y_test_oh = np_utils.to_categorical(encoded_y_test)\n",
    "    \n",
    "    scaler_test = StandardScaler()\n",
    "    x_test = test_data.drop(['type'], axis=1)\n",
    "    x_test = scaler_test.fit_transform(x_test)\n",
    "    x_test = pd.DataFrame(x_test, columns=x_columns)\n",
    "\n",
    "    return x_train, y_train_oh, x_test, y_test_oh"
   ]
  },
  {
   "cell_type": "code",
   "execution_count": 81,
   "metadata": {},
   "outputs": [],
   "source": [
    "# Baseline Model\n",
    "def baseline_model():\n",
    "    model = Sequential()\n",
    "    model.add(Dense(256, input_dim = 508, activation = 'relu', kernel_regularizer='l2'))\n",
    "    model.add(Dense(3, activation='softmax'))\n",
    "    opt = optimizers.Adam(learning_rate = 0.001)\n",
    "    model.compile(loss='categorical_crossentropy', optimizer=opt, metrics=['accuracy'])\n",
    "    return(model)"
   ]
  },
  {
   "cell_type": "code",
   "execution_count": 102,
   "metadata": {},
   "outputs": [],
   "source": [
    "# Baseline Analysis\n",
    "def baseline(protein):\n",
    "    # Split Training Data based on Protein\n",
    "    x_train, y_train, x_test, y_test = train_test_split(protein, data_final)\n",
    "    \n",
    "    # Build Model\n",
    "    # 40 epochs based on initial runs and graphing of loss over time.\n",
    "    estimator = KerasClassifier(build_fn=baseline_model, epochs=20, batch_size=64, verbose=1)\n",
    "    estimator.fit(x_train, y_train, verbose=1)\n",
    "    \n",
    "    # Generate Analysis Characteristics\n",
    "    probs = estimator.predict_proba(x_test)\n",
    "    predictions = estimator.predict(x_test)\n",
    "    precision = precision_score(np.argmax(y_test,1), predictions, average=\"macro\", zero_division=0)\n",
    "    score = estimator.score(x_test, y_test)\n",
    "\n",
    "    print('Accuracy: {}'.format(score))\n",
    "    print('Precision: {}'.format(precision))\n",
    "    \n",
    "    # Plotting Confusion Matrices\n",
    "    cmatrix = confusion_matrix(np.argmax(y_test,1), predictions)\n",
    "    fig, ax = plt.subplots()\n",
    "    sns.heatmap(cmatrix, xticklabels = ['Beneficial', 'Deleterious', 'Neutral'], yticklabels = ['Beneficial', 'Deleterious', 'Neutral'])\n",
    "    ax.set_title('{}'.format(protein))\n",
    "    plt.savefig('img/baseline-cmatrix/' + protein + '-baseline-cmatrix.png', dpi=300)"
   ]
  },
  {
   "cell_type": "code",
   "execution_count": 103,
   "metadata": {
    "scrolled": false
   },
   "outputs": [
    {
     "name": "stdout",
     "output_type": "stream",
     "text": [
      "Epoch 1/20\n",
      "24441/24441 [==============================] - 1s 57us/step - loss: 1.7152 - accuracy: 0.6931\n",
      "Epoch 2/20\n",
      "24441/24441 [==============================] - 1s 53us/step - loss: 0.8000 - accuracy: 0.7103\n",
      "Epoch 3/20\n",
      "24441/24441 [==============================] - 1s 53us/step - loss: 0.7429 - accuracy: 0.7138\n",
      "Epoch 4/20\n",
      "24441/24441 [==============================] - 1s 53us/step - loss: 0.7322 - accuracy: 0.7144\n",
      "Epoch 5/20\n",
      "24441/24441 [==============================] - 1s 54us/step - loss: 0.7268 - accuracy: 0.7143\n",
      "Epoch 6/20\n",
      "24441/24441 [==============================] - 1s 53us/step - loss: 0.7209 - accuracy: 0.7193\n",
      "Epoch 7/20\n",
      "24441/24441 [==============================] - 1s 53us/step - loss: 0.7149 - accuracy: 0.7212\n",
      "Epoch 8/20\n",
      "24441/24441 [==============================] - 1s 54us/step - loss: 0.7082 - accuracy: 0.7242\n",
      "Epoch 9/20\n",
      "24441/24441 [==============================] - 1s 55us/step - loss: 0.7036 - accuracy: 0.7263\n",
      "Epoch 10/20\n",
      "24441/24441 [==============================] - 1s 54us/step - loss: 0.7024 - accuracy: 0.7273\n",
      "Epoch 11/20\n",
      "24441/24441 [==============================] - 1s 53us/step - loss: 0.6923 - accuracy: 0.7286\n",
      "Epoch 12/20\n",
      "24441/24441 [==============================] - 1s 55us/step - loss: 0.6918 - accuracy: 0.7304\n",
      "Epoch 13/20\n",
      "24441/24441 [==============================] - 1s 54us/step - loss: 0.6901 - accuracy: 0.7310\n",
      "Epoch 14/20\n",
      "24441/24441 [==============================] - 1s 54us/step - loss: 0.6866 - accuracy: 0.7338\n",
      "Epoch 15/20\n",
      "24441/24441 [==============================] - 1s 54us/step - loss: 0.6835 - accuracy: 0.7336\n",
      "Epoch 16/20\n",
      "24441/24441 [==============================] - 1s 53us/step - loss: 0.6818 - accuracy: 0.7362\n",
      "Epoch 17/20\n",
      "24441/24441 [==============================] - 1s 54us/step - loss: 0.6809 - accuracy: 0.7377\n",
      "Epoch 18/20\n",
      "24441/24441 [==============================] - 1s 53us/step - loss: 0.6794 - accuracy: 0.7349\n",
      "Epoch 19/20\n",
      "24441/24441 [==============================] - 1s 53us/step - loss: 0.6780 - accuracy: 0.7344\n",
      "Epoch 20/20\n",
      "24441/24441 [==============================] - 1s 53us/step - loss: 0.6771 - accuracy: 0.7367\n",
      "25140/25140 [==============================] - 0s 13us/step\n",
      "25140/25140 [==============================] - 0s 13us/step\n",
      "25140/25140 [==============================] - 1s 31us/step\n",
      "Accuracy: 0.4144391417503357\n",
      "Precision: 0.4311149264917371\n",
      "Epoch 1/20\n",
      "29106/29106 [==============================] - 2s 56us/step - loss: 1.5668 - accuracy: 0.6721\n",
      "Epoch 2/20\n",
      "29106/29106 [==============================] - 2s 53us/step - loss: 0.7924 - accuracy: 0.6867\n",
      "Epoch 3/20\n",
      "29106/29106 [==============================] - 2s 62us/step - loss: 0.7589 - accuracy: 0.6861\n",
      "Epoch 4/20\n",
      "29106/29106 [==============================] - 2s 54us/step - loss: 0.7489 - accuracy: 0.6890\n",
      "Epoch 5/20\n",
      "29106/29106 [==============================] - 2s 57us/step - loss: 0.7409 - accuracy: 0.6934\n",
      "Epoch 6/20\n",
      "29106/29106 [==============================] - 2s 53us/step - loss: 0.7314 - accuracy: 0.6976\n",
      "Epoch 7/20\n",
      "29106/29106 [==============================] - 2s 56us/step - loss: 0.7289 - accuracy: 0.6979\n",
      "Epoch 8/20\n",
      "29106/29106 [==============================] - 2s 56us/step - loss: 0.7220 - accuracy: 0.7014\n",
      "Epoch 9/20\n",
      "29106/29106 [==============================] - 2s 55us/step - loss: 0.7202 - accuracy: 0.7018\n",
      "Epoch 10/20\n",
      "29106/29106 [==============================] - 2s 54us/step - loss: 0.7152 - accuracy: 0.7044\n",
      "Epoch 11/20\n",
      "29106/29106 [==============================] - 2s 54us/step - loss: 0.7149 - accuracy: 0.7027\n",
      "Epoch 12/20\n",
      "29106/29106 [==============================] - 2s 53us/step - loss: 0.7117 - accuracy: 0.7039\n",
      "Epoch 13/20\n",
      "29106/29106 [==============================] - 2s 53us/step - loss: 0.7090 - accuracy: 0.7049\n",
      "Epoch 14/20\n",
      "29106/29106 [==============================] - 2s 53us/step - loss: 0.7078 - accuracy: 0.7051\n",
      "Epoch 15/20\n",
      "29106/29106 [==============================] - 2s 57us/step - loss: 0.7073 - accuracy: 0.7042\n",
      "Epoch 16/20\n",
      "29106/29106 [==============================] - 2s 53us/step - loss: 0.7047 - accuracy: 0.7080\n",
      "Epoch 17/20\n",
      "29106/29106 [==============================] - 2s 56us/step - loss: 0.7034 - accuracy: 0.7074\n",
      "Epoch 18/20\n",
      "29106/29106 [==============================] - 2s 60us/step - loss: 0.7031 - accuracy: 0.7092\n",
      "Epoch 19/20\n",
      "29106/29106 [==============================] - 2s 53us/step - loss: 0.7010 - accuracy: 0.7081\n",
      "Epoch 20/20\n",
      "29106/29106 [==============================] - 2s 53us/step - loss: 0.7010 - accuracy: 0.7080\n",
      "20475/20475 [==============================] - 0s 13us/step\n",
      "20475/20475 [==============================] - 0s 13us/step\n",
      "20475/20475 [==============================] - 1s 32us/step\n",
      "Accuracy: 0.4473748505115509\n",
      "Precision: 0.32242564263452805\n",
      "Epoch 1/20\n",
      "48217/48217 [==============================] - 3s 59us/step - loss: 1.3285 - accuracy: 0.6701\n",
      "Epoch 2/20\n",
      "48217/48217 [==============================] - 3s 54us/step - loss: 0.7959 - accuracy: 0.6860\n",
      "Epoch 3/20\n",
      "48217/48217 [==============================] - 3s 54us/step - loss: 0.7804 - accuracy: 0.6891\n",
      "Epoch 4/20\n",
      "48217/48217 [==============================] - 3s 56us/step - loss: 0.7697 - accuracy: 0.6927\n",
      "Epoch 5/20\n",
      "48217/48217 [==============================] - 3s 55us/step - loss: 0.7611 - accuracy: 0.6956\n",
      "Epoch 6/20\n",
      "48217/48217 [==============================] - 3s 55us/step - loss: 0.7538 - accuracy: 0.6976\n",
      "Epoch 7/20\n",
      "48217/48217 [==============================] - 3s 56us/step - loss: 0.7488 - accuracy: 0.6993\n",
      "Epoch 8/20\n",
      "48217/48217 [==============================] - 3s 59us/step - loss: 0.7452 - accuracy: 0.6995\n",
      "Epoch 9/20\n",
      "48217/48217 [==============================] - 3s 54us/step - loss: 0.7417 - accuracy: 0.7019\n",
      "Epoch 10/20\n",
      "48217/48217 [==============================] - 3s 53us/step - loss: 0.7393 - accuracy: 0.7025\n",
      "Epoch 11/20\n",
      "48217/48217 [==============================] - 3s 53us/step - loss: 0.7379 - accuracy: 0.7026\n",
      "Epoch 12/20\n",
      "48217/48217 [==============================] - 3s 54us/step - loss: 0.7346 - accuracy: 0.7049\n",
      "Epoch 13/20\n",
      "48217/48217 [==============================] - 3s 54us/step - loss: 0.7334 - accuracy: 0.7037\n",
      "Epoch 14/20\n",
      "48217/48217 [==============================] - 3s 54us/step - loss: 0.7313 - accuracy: 0.7033\n",
      "Epoch 15/20\n",
      "48217/48217 [==============================] - 3s 53us/step - loss: 0.7294 - accuracy: 0.7044\n",
      "Epoch 16/20\n",
      "48217/48217 [==============================] - 3s 53us/step - loss: 0.7286 - accuracy: 0.7052\n",
      "Epoch 17/20\n",
      "48217/48217 [==============================] - 3s 53us/step - loss: 0.7291 - accuracy: 0.7052\n",
      "Epoch 18/20\n",
      "48217/48217 [==============================] - 3s 54us/step - loss: 0.7283 - accuracy: 0.7061\n",
      "Epoch 19/20\n",
      "48217/48217 [==============================] - 3s 54us/step - loss: 0.7275 - accuracy: 0.7048\n",
      "Epoch 20/20\n",
      "48217/48217 [==============================] - 3s 53us/step - loss: 0.7272 - accuracy: 0.7086\n",
      "1364/1364 [==============================] - 0s 20us/step\n",
      "1364/1364 [==============================] - 0s 14us/step\n",
      "1364/1364 [==============================] - 0s 52us/step\n",
      "Accuracy: 0.5505865216255188\n",
      "Precision: 0.4157720092434312\n",
      "Epoch 1/20\n",
      "48005/48005 [==============================] - 3s 58us/step - loss: 1.3313 - accuracy: 0.6750\n",
      "Epoch 2/20\n",
      "48005/48005 [==============================] - 3s 53us/step - loss: 0.7880 - accuracy: 0.6892\n",
      "Epoch 3/20\n",
      "48005/48005 [==============================] - 3s 54us/step - loss: 0.7741 - accuracy: 0.6919\n",
      "Epoch 4/20\n",
      "48005/48005 [==============================] - 3s 54us/step - loss: 0.7632 - accuracy: 0.6938\n",
      "Epoch 5/20\n",
      "48005/48005 [==============================] - 3s 54us/step - loss: 0.7540 - accuracy: 0.6976\n",
      "Epoch 6/20\n",
      "48005/48005 [==============================] - 3s 53us/step - loss: 0.7467 - accuracy: 0.6992\n",
      "Epoch 7/20\n",
      "48005/48005 [==============================] - 3s 56us/step - loss: 0.7407 - accuracy: 0.7005\n",
      "Epoch 8/20\n",
      "48005/48005 [==============================] - 3s 53us/step - loss: 0.7361 - accuracy: 0.7017\n",
      "Epoch 9/20\n",
      "48005/48005 [==============================] - 3s 55us/step - loss: 0.7345 - accuracy: 0.7034\n",
      "Epoch 10/20\n",
      "48005/48005 [==============================] - 3s 54us/step - loss: 0.7314 - accuracy: 0.7043\n",
      "Epoch 11/20\n"
     ]
    },
    {
     "name": "stdout",
     "output_type": "stream",
     "text": [
      "48005/48005 [==============================] - 3s 53us/step - loss: 0.7277 - accuracy: 0.7077\n",
      "Epoch 12/20\n",
      "48005/48005 [==============================] - 3s 53us/step - loss: 0.7296 - accuracy: 0.7047\n",
      "Epoch 13/20\n",
      "48005/48005 [==============================] - 3s 53us/step - loss: 0.7272 - accuracy: 0.7042\n",
      "Epoch 14/20\n",
      "48005/48005 [==============================] - 3s 53us/step - loss: 0.7233 - accuracy: 0.7077\n",
      "Epoch 15/20\n",
      "48005/48005 [==============================] - 3s 54us/step - loss: 0.7244 - accuracy: 0.7063\n",
      "Epoch 16/20\n",
      "48005/48005 [==============================] - 3s 53us/step - loss: 0.7226 - accuracy: 0.7056\n",
      "Epoch 17/20\n",
      "48005/48005 [==============================] - 3s 53us/step - loss: 0.7212 - accuracy: 0.7082\n",
      "Epoch 18/20\n",
      "48005/48005 [==============================] - 3s 53us/step - loss: 0.7212 - accuracy: 0.7077\n",
      "Epoch 19/20\n",
      "48005/48005 [==============================] - 3s 53us/step - loss: 0.7204 - accuracy: 0.7080\n",
      "Epoch 20/20\n",
      "48005/48005 [==============================] - 3s 53us/step - loss: 0.7200 - accuracy: 0.7078\n",
      "1576/1576 [==============================] - 0s 18us/step\n",
      "1576/1576 [==============================] - 0s 14us/step\n",
      "1576/1576 [==============================] - 0s 48us/step\n",
      "Accuracy: 0.4352791905403137\n",
      "Precision: 0.41251248187580397\n",
      "Epoch 1/20\n",
      "48725/48725 [==============================] - 3s 55us/step - loss: 1.3071 - accuracy: 0.6717\n",
      "Epoch 2/20\n",
      "48725/48725 [==============================] - 3s 55us/step - loss: 0.7933 - accuracy: 0.6858\n",
      "Epoch 3/20\n",
      "48725/48725 [==============================] - 3s 54us/step - loss: 0.7818 - accuracy: 0.6842\n",
      "Epoch 4/20\n",
      "48725/48725 [==============================] - 3s 54us/step - loss: 0.7739 - accuracy: 0.6886\n",
      "Epoch 5/20\n",
      "48725/48725 [==============================] - 3s 53us/step - loss: 0.7672 - accuracy: 0.6934\n",
      "Epoch 6/20\n",
      "48725/48725 [==============================] - 3s 54us/step - loss: 0.7598 - accuracy: 0.6944\n",
      "Epoch 7/20\n",
      "48725/48725 [==============================] - 3s 53us/step - loss: 0.7526 - accuracy: 0.6966\n",
      "Epoch 8/20\n",
      "48725/48725 [==============================] - 3s 54us/step - loss: 0.7502 - accuracy: 0.6970\n",
      "Epoch 9/20\n",
      "48725/48725 [==============================] - 3s 53us/step - loss: 0.7476 - accuracy: 0.6979\n",
      "Epoch 10/20\n",
      "48725/48725 [==============================] - 3s 53us/step - loss: 0.7449 - accuracy: 0.6995\n",
      "Epoch 11/20\n",
      "48725/48725 [==============================] - 3s 53us/step - loss: 0.7419 - accuracy: 0.6989\n",
      "Epoch 12/20\n",
      "48725/48725 [==============================] - 3s 53us/step - loss: 0.7390 - accuracy: 0.6995\n",
      "Epoch 13/20\n",
      "48725/48725 [==============================] - 3s 54us/step - loss: 0.7375 - accuracy: 0.7000\n",
      "Epoch 14/20\n",
      "48725/48725 [==============================] - 3s 53us/step - loss: 0.7363 - accuracy: 0.7026\n",
      "Epoch 15/20\n",
      "48725/48725 [==============================] - 3s 53us/step - loss: 0.7324 - accuracy: 0.7022\n",
      "Epoch 16/20\n",
      "48725/48725 [==============================] - 3s 53us/step - loss: 0.7316 - accuracy: 0.7027\n",
      "Epoch 17/20\n",
      "48725/48725 [==============================] - 3s 53us/step - loss: 0.7305 - accuracy: 0.7022\n",
      "Epoch 18/20\n",
      "48725/48725 [==============================] - 3s 55us/step - loss: 0.7303 - accuracy: 0.7027\n",
      "Epoch 19/20\n",
      "48725/48725 [==============================] - 3s 53us/step - loss: 0.7294 - accuracy: 0.7018\n",
      "Epoch 20/20\n",
      "48725/48725 [==============================] - 3s 55us/step - loss: 0.7283 - accuracy: 0.7047\n",
      "856/856 [==============================] - 0s 23us/step\n",
      "856/856 [==============================] - 0s 14us/step\n",
      "856/856 [==============================] - 0s 64us/step\n",
      "Accuracy: 0.7067757248878479\n",
      "Precision: 0.4733167657306825\n",
      "Epoch 1/20\n",
      "49411/49411 [==============================] - 3s 57us/step - loss: 1.3537 - accuracy: 0.6717\n",
      "Epoch 2/20\n",
      "49411/49411 [==============================] - 3s 55us/step - loss: 0.7954 - accuracy: 0.6838\n",
      "Epoch 3/20\n",
      "49411/49411 [==============================] - 3s 55us/step - loss: 0.7806 - accuracy: 0.6874\n",
      "Epoch 4/20\n",
      "49411/49411 [==============================] - 3s 53us/step - loss: 0.7734 - accuracy: 0.6898\n",
      "Epoch 5/20\n",
      "26944/49411 [===============>..............] - ETA: 1s - loss: 0.7676 - accuracy: 0.6923"
     ]
    },
    {
     "ename": "KeyboardInterrupt",
     "evalue": "",
     "output_type": "error",
     "traceback": [
      "\u001b[0;31m---------------------------------------------------------------------------\u001b[0m",
      "\u001b[0;31mKeyboardInterrupt\u001b[0m                         Traceback (most recent call last)",
      "\u001b[0;32m<ipython-input-103-1b22e35055f5>\u001b[0m in \u001b[0;36m<module>\u001b[0;34m\u001b[0m\n\u001b[1;32m      1\u001b[0m \u001b[0mproteins\u001b[0m \u001b[0;34m=\u001b[0m \u001b[0mlist\u001b[0m\u001b[0;34m(\u001b[0m\u001b[0mdata_final\u001b[0m\u001b[0;34m[\u001b[0m\u001b[0;34m'protein'\u001b[0m\u001b[0;34m]\u001b[0m\u001b[0;34m.\u001b[0m\u001b[0munique\u001b[0m\u001b[0;34m(\u001b[0m\u001b[0;34m)\u001b[0m\u001b[0;34m)\u001b[0m\u001b[0;34m\u001b[0m\u001b[0;34m\u001b[0m\u001b[0m\n\u001b[1;32m      2\u001b[0m \u001b[0;32mfor\u001b[0m \u001b[0mprotein\u001b[0m \u001b[0;32min\u001b[0m \u001b[0mproteins\u001b[0m\u001b[0;34m:\u001b[0m\u001b[0;34m\u001b[0m\u001b[0;34m\u001b[0m\u001b[0m\n\u001b[0;32m----> 3\u001b[0;31m     \u001b[0mbaseline\u001b[0m\u001b[0;34m(\u001b[0m\u001b[0mprotein\u001b[0m\u001b[0;34m)\u001b[0m\u001b[0;34m\u001b[0m\u001b[0;34m\u001b[0m\u001b[0m\n\u001b[0m",
      "\u001b[0;32m<ipython-input-102-499a778e6d92>\u001b[0m in \u001b[0;36mbaseline\u001b[0;34m(protein)\u001b[0m\n\u001b[1;32m      7\u001b[0m     \u001b[0;31m# 40 epochs based on initial runs and graphing of loss over time.\u001b[0m\u001b[0;34m\u001b[0m\u001b[0;34m\u001b[0m\u001b[0;34m\u001b[0m\u001b[0m\n\u001b[1;32m      8\u001b[0m     \u001b[0mestimator\u001b[0m \u001b[0;34m=\u001b[0m \u001b[0mKerasClassifier\u001b[0m\u001b[0;34m(\u001b[0m\u001b[0mbuild_fn\u001b[0m\u001b[0;34m=\u001b[0m\u001b[0mbaseline_model\u001b[0m\u001b[0;34m,\u001b[0m \u001b[0mepochs\u001b[0m\u001b[0;34m=\u001b[0m\u001b[0;36m20\u001b[0m\u001b[0;34m,\u001b[0m \u001b[0mbatch_size\u001b[0m\u001b[0;34m=\u001b[0m\u001b[0;36m64\u001b[0m\u001b[0;34m,\u001b[0m \u001b[0mverbose\u001b[0m\u001b[0;34m=\u001b[0m\u001b[0;36m1\u001b[0m\u001b[0;34m)\u001b[0m\u001b[0;34m\u001b[0m\u001b[0;34m\u001b[0m\u001b[0m\n\u001b[0;32m----> 9\u001b[0;31m     \u001b[0mestimator\u001b[0m\u001b[0;34m.\u001b[0m\u001b[0mfit\u001b[0m\u001b[0;34m(\u001b[0m\u001b[0mx_train\u001b[0m\u001b[0;34m,\u001b[0m \u001b[0my_train\u001b[0m\u001b[0;34m,\u001b[0m \u001b[0mverbose\u001b[0m\u001b[0;34m=\u001b[0m\u001b[0;36m1\u001b[0m\u001b[0;34m)\u001b[0m\u001b[0;34m\u001b[0m\u001b[0;34m\u001b[0m\u001b[0m\n\u001b[0m\u001b[1;32m     10\u001b[0m \u001b[0;34m\u001b[0m\u001b[0m\n\u001b[1;32m     11\u001b[0m     \u001b[0;31m# Generate Analysis Characteristics\u001b[0m\u001b[0;34m\u001b[0m\u001b[0;34m\u001b[0m\u001b[0;34m\u001b[0m\u001b[0m\n",
      "\u001b[0;32m~/anaconda3/envs/tensorflow2_p36/lib/python3.6/site-packages/keras/wrappers/scikit_learn.py\u001b[0m in \u001b[0;36mfit\u001b[0;34m(self, x, y, sample_weight, **kwargs)\u001b[0m\n\u001b[1;32m    207\u001b[0m         \u001b[0;32mif\u001b[0m \u001b[0msample_weight\u001b[0m \u001b[0;32mis\u001b[0m \u001b[0;32mnot\u001b[0m \u001b[0;32mNone\u001b[0m\u001b[0;34m:\u001b[0m\u001b[0;34m\u001b[0m\u001b[0;34m\u001b[0m\u001b[0m\n\u001b[1;32m    208\u001b[0m             \u001b[0mkwargs\u001b[0m\u001b[0;34m[\u001b[0m\u001b[0;34m'sample_weight'\u001b[0m\u001b[0;34m]\u001b[0m \u001b[0;34m=\u001b[0m \u001b[0msample_weight\u001b[0m\u001b[0;34m\u001b[0m\u001b[0;34m\u001b[0m\u001b[0m\n\u001b[0;32m--> 209\u001b[0;31m         \u001b[0;32mreturn\u001b[0m \u001b[0msuper\u001b[0m\u001b[0;34m(\u001b[0m\u001b[0mKerasClassifier\u001b[0m\u001b[0;34m,\u001b[0m \u001b[0mself\u001b[0m\u001b[0;34m)\u001b[0m\u001b[0;34m.\u001b[0m\u001b[0mfit\u001b[0m\u001b[0;34m(\u001b[0m\u001b[0mx\u001b[0m\u001b[0;34m,\u001b[0m \u001b[0my\u001b[0m\u001b[0;34m,\u001b[0m \u001b[0;34m**\u001b[0m\u001b[0mkwargs\u001b[0m\u001b[0;34m)\u001b[0m\u001b[0;34m\u001b[0m\u001b[0;34m\u001b[0m\u001b[0m\n\u001b[0m\u001b[1;32m    210\u001b[0m \u001b[0;34m\u001b[0m\u001b[0m\n\u001b[1;32m    211\u001b[0m     \u001b[0;32mdef\u001b[0m \u001b[0mpredict\u001b[0m\u001b[0;34m(\u001b[0m\u001b[0mself\u001b[0m\u001b[0;34m,\u001b[0m \u001b[0mx\u001b[0m\u001b[0;34m,\u001b[0m \u001b[0;34m**\u001b[0m\u001b[0mkwargs\u001b[0m\u001b[0;34m)\u001b[0m\u001b[0;34m:\u001b[0m\u001b[0;34m\u001b[0m\u001b[0;34m\u001b[0m\u001b[0m\n",
      "\u001b[0;32m~/anaconda3/envs/tensorflow2_p36/lib/python3.6/site-packages/keras/wrappers/scikit_learn.py\u001b[0m in \u001b[0;36mfit\u001b[0;34m(self, x, y, **kwargs)\u001b[0m\n\u001b[1;32m    149\u001b[0m         \u001b[0mfit_args\u001b[0m\u001b[0;34m.\u001b[0m\u001b[0mupdate\u001b[0m\u001b[0;34m(\u001b[0m\u001b[0mkwargs\u001b[0m\u001b[0;34m)\u001b[0m\u001b[0;34m\u001b[0m\u001b[0;34m\u001b[0m\u001b[0m\n\u001b[1;32m    150\u001b[0m \u001b[0;34m\u001b[0m\u001b[0m\n\u001b[0;32m--> 151\u001b[0;31m         \u001b[0mhistory\u001b[0m \u001b[0;34m=\u001b[0m \u001b[0mself\u001b[0m\u001b[0;34m.\u001b[0m\u001b[0mmodel\u001b[0m\u001b[0;34m.\u001b[0m\u001b[0mfit\u001b[0m\u001b[0;34m(\u001b[0m\u001b[0mx\u001b[0m\u001b[0;34m,\u001b[0m \u001b[0my\u001b[0m\u001b[0;34m,\u001b[0m \u001b[0;34m**\u001b[0m\u001b[0mfit_args\u001b[0m\u001b[0;34m)\u001b[0m\u001b[0;34m\u001b[0m\u001b[0;34m\u001b[0m\u001b[0m\n\u001b[0m\u001b[1;32m    152\u001b[0m \u001b[0;34m\u001b[0m\u001b[0m\n\u001b[1;32m    153\u001b[0m         \u001b[0;32mreturn\u001b[0m \u001b[0mhistory\u001b[0m\u001b[0;34m\u001b[0m\u001b[0;34m\u001b[0m\u001b[0m\n",
      "\u001b[0;32m~/anaconda3/envs/tensorflow2_p36/lib/python3.6/site-packages/keras/engine/training.py\u001b[0m in \u001b[0;36mfit\u001b[0;34m(self, x, y, batch_size, epochs, verbose, callbacks, validation_split, validation_data, shuffle, class_weight, sample_weight, initial_epoch, steps_per_epoch, validation_steps, validation_freq, max_queue_size, workers, use_multiprocessing, **kwargs)\u001b[0m\n\u001b[1;32m   1237\u001b[0m                                         \u001b[0msteps_per_epoch\u001b[0m\u001b[0;34m=\u001b[0m\u001b[0msteps_per_epoch\u001b[0m\u001b[0;34m,\u001b[0m\u001b[0;34m\u001b[0m\u001b[0;34m\u001b[0m\u001b[0m\n\u001b[1;32m   1238\u001b[0m                                         \u001b[0mvalidation_steps\u001b[0m\u001b[0;34m=\u001b[0m\u001b[0mvalidation_steps\u001b[0m\u001b[0;34m,\u001b[0m\u001b[0;34m\u001b[0m\u001b[0;34m\u001b[0m\u001b[0m\n\u001b[0;32m-> 1239\u001b[0;31m                                         validation_freq=validation_freq)\n\u001b[0m\u001b[1;32m   1240\u001b[0m \u001b[0;34m\u001b[0m\u001b[0m\n\u001b[1;32m   1241\u001b[0m     def evaluate(self,\n",
      "\u001b[0;32m~/anaconda3/envs/tensorflow2_p36/lib/python3.6/site-packages/keras/engine/training_arrays.py\u001b[0m in \u001b[0;36mfit_loop\u001b[0;34m(model, fit_function, fit_inputs, out_labels, batch_size, epochs, verbose, callbacks, val_function, val_inputs, shuffle, initial_epoch, steps_per_epoch, validation_steps, validation_freq)\u001b[0m\n\u001b[1;32m    194\u001b[0m                     \u001b[0mins_batch\u001b[0m\u001b[0;34m[\u001b[0m\u001b[0mi\u001b[0m\u001b[0;34m]\u001b[0m \u001b[0;34m=\u001b[0m \u001b[0mins_batch\u001b[0m\u001b[0;34m[\u001b[0m\u001b[0mi\u001b[0m\u001b[0;34m]\u001b[0m\u001b[0;34m.\u001b[0m\u001b[0mtoarray\u001b[0m\u001b[0;34m(\u001b[0m\u001b[0;34m)\u001b[0m\u001b[0;34m\u001b[0m\u001b[0;34m\u001b[0m\u001b[0m\n\u001b[1;32m    195\u001b[0m \u001b[0;34m\u001b[0m\u001b[0m\n\u001b[0;32m--> 196\u001b[0;31m                 \u001b[0mouts\u001b[0m \u001b[0;34m=\u001b[0m \u001b[0mfit_function\u001b[0m\u001b[0;34m(\u001b[0m\u001b[0mins_batch\u001b[0m\u001b[0;34m)\u001b[0m\u001b[0;34m\u001b[0m\u001b[0;34m\u001b[0m\u001b[0m\n\u001b[0m\u001b[1;32m    197\u001b[0m                 \u001b[0mouts\u001b[0m \u001b[0;34m=\u001b[0m \u001b[0mto_list\u001b[0m\u001b[0;34m(\u001b[0m\u001b[0mouts\u001b[0m\u001b[0;34m)\u001b[0m\u001b[0;34m\u001b[0m\u001b[0;34m\u001b[0m\u001b[0m\n\u001b[1;32m    198\u001b[0m                 \u001b[0;32mfor\u001b[0m \u001b[0ml\u001b[0m\u001b[0;34m,\u001b[0m \u001b[0mo\u001b[0m \u001b[0;32min\u001b[0m \u001b[0mzip\u001b[0m\u001b[0;34m(\u001b[0m\u001b[0mout_labels\u001b[0m\u001b[0;34m,\u001b[0m \u001b[0mouts\u001b[0m\u001b[0;34m)\u001b[0m\u001b[0;34m:\u001b[0m\u001b[0;34m\u001b[0m\u001b[0;34m\u001b[0m\u001b[0m\n",
      "\u001b[0;32m~/anaconda3/envs/tensorflow2_p36/lib/python3.6/site-packages/tensorflow_core/python/keras/backend.py\u001b[0m in \u001b[0;36m__call__\u001b[0;34m(self, inputs)\u001b[0m\n\u001b[1;32m   3725\u001b[0m         \u001b[0mvalue\u001b[0m \u001b[0;34m=\u001b[0m \u001b[0mmath_ops\u001b[0m\u001b[0;34m.\u001b[0m\u001b[0mcast\u001b[0m\u001b[0;34m(\u001b[0m\u001b[0mvalue\u001b[0m\u001b[0;34m,\u001b[0m \u001b[0mtensor\u001b[0m\u001b[0;34m.\u001b[0m\u001b[0mdtype\u001b[0m\u001b[0;34m)\u001b[0m\u001b[0;34m\u001b[0m\u001b[0;34m\u001b[0m\u001b[0m\n\u001b[1;32m   3726\u001b[0m       \u001b[0mconverted_inputs\u001b[0m\u001b[0;34m.\u001b[0m\u001b[0mappend\u001b[0m\u001b[0;34m(\u001b[0m\u001b[0mvalue\u001b[0m\u001b[0;34m)\u001b[0m\u001b[0;34m\u001b[0m\u001b[0;34m\u001b[0m\u001b[0m\n\u001b[0;32m-> 3727\u001b[0;31m     \u001b[0moutputs\u001b[0m \u001b[0;34m=\u001b[0m \u001b[0mself\u001b[0m\u001b[0;34m.\u001b[0m\u001b[0m_graph_fn\u001b[0m\u001b[0;34m(\u001b[0m\u001b[0;34m*\u001b[0m\u001b[0mconverted_inputs\u001b[0m\u001b[0;34m)\u001b[0m\u001b[0;34m\u001b[0m\u001b[0;34m\u001b[0m\u001b[0m\n\u001b[0m\u001b[1;32m   3728\u001b[0m \u001b[0;34m\u001b[0m\u001b[0m\n\u001b[1;32m   3729\u001b[0m     \u001b[0;31m# EagerTensor.numpy() will often make a copy to ensure memory safety.\u001b[0m\u001b[0;34m\u001b[0m\u001b[0;34m\u001b[0m\u001b[0;34m\u001b[0m\u001b[0m\n",
      "\u001b[0;32m~/anaconda3/envs/tensorflow2_p36/lib/python3.6/site-packages/tensorflow_core/python/eager/function.py\u001b[0m in \u001b[0;36m__call__\u001b[0;34m(self, *args, **kwargs)\u001b[0m\n\u001b[1;32m   1549\u001b[0m       \u001b[0mTypeError\u001b[0m\u001b[0;34m:\u001b[0m \u001b[0mFor\u001b[0m \u001b[0minvalid\u001b[0m \u001b[0mpositional\u001b[0m\u001b[0;34m/\u001b[0m\u001b[0mkeyword\u001b[0m \u001b[0margument\u001b[0m \u001b[0mcombinations\u001b[0m\u001b[0;34m.\u001b[0m\u001b[0;34m\u001b[0m\u001b[0;34m\u001b[0m\u001b[0m\n\u001b[1;32m   1550\u001b[0m     \"\"\"\n\u001b[0;32m-> 1551\u001b[0;31m     \u001b[0;32mreturn\u001b[0m \u001b[0mself\u001b[0m\u001b[0;34m.\u001b[0m\u001b[0m_call_impl\u001b[0m\u001b[0;34m(\u001b[0m\u001b[0margs\u001b[0m\u001b[0;34m,\u001b[0m \u001b[0mkwargs\u001b[0m\u001b[0;34m)\u001b[0m\u001b[0;34m\u001b[0m\u001b[0;34m\u001b[0m\u001b[0m\n\u001b[0m\u001b[1;32m   1552\u001b[0m \u001b[0;34m\u001b[0m\u001b[0m\n\u001b[1;32m   1553\u001b[0m   \u001b[0;32mdef\u001b[0m \u001b[0m_call_impl\u001b[0m\u001b[0;34m(\u001b[0m\u001b[0mself\u001b[0m\u001b[0;34m,\u001b[0m \u001b[0margs\u001b[0m\u001b[0;34m,\u001b[0m \u001b[0mkwargs\u001b[0m\u001b[0;34m,\u001b[0m \u001b[0mcancellation_manager\u001b[0m\u001b[0;34m=\u001b[0m\u001b[0;32mNone\u001b[0m\u001b[0;34m)\u001b[0m\u001b[0;34m:\u001b[0m\u001b[0;34m\u001b[0m\u001b[0;34m\u001b[0m\u001b[0m\n",
      "\u001b[0;32m~/anaconda3/envs/tensorflow2_p36/lib/python3.6/site-packages/tensorflow_core/python/eager/function.py\u001b[0m in \u001b[0;36m_call_impl\u001b[0;34m(self, args, kwargs, cancellation_manager)\u001b[0m\n\u001b[1;32m   1589\u001b[0m       raise TypeError(\"Keyword arguments {} unknown. Expected {}.\".format(\n\u001b[1;32m   1590\u001b[0m           list(kwargs.keys()), list(self._arg_keywords)))\n\u001b[0;32m-> 1591\u001b[0;31m     \u001b[0;32mreturn\u001b[0m \u001b[0mself\u001b[0m\u001b[0;34m.\u001b[0m\u001b[0m_call_flat\u001b[0m\u001b[0;34m(\u001b[0m\u001b[0margs\u001b[0m\u001b[0;34m,\u001b[0m \u001b[0mself\u001b[0m\u001b[0;34m.\u001b[0m\u001b[0mcaptured_inputs\u001b[0m\u001b[0;34m,\u001b[0m \u001b[0mcancellation_manager\u001b[0m\u001b[0;34m)\u001b[0m\u001b[0;34m\u001b[0m\u001b[0;34m\u001b[0m\u001b[0m\n\u001b[0m\u001b[1;32m   1592\u001b[0m \u001b[0;34m\u001b[0m\u001b[0m\n\u001b[1;32m   1593\u001b[0m   \u001b[0;32mdef\u001b[0m \u001b[0m_filtered_call\u001b[0m\u001b[0;34m(\u001b[0m\u001b[0mself\u001b[0m\u001b[0;34m,\u001b[0m \u001b[0margs\u001b[0m\u001b[0;34m,\u001b[0m \u001b[0mkwargs\u001b[0m\u001b[0;34m)\u001b[0m\u001b[0;34m:\u001b[0m\u001b[0;34m\u001b[0m\u001b[0;34m\u001b[0m\u001b[0m\n",
      "\u001b[0;32m~/anaconda3/envs/tensorflow2_p36/lib/python3.6/site-packages/tensorflow_core/python/eager/function.py\u001b[0m in \u001b[0;36m_call_flat\u001b[0;34m(self, args, captured_inputs, cancellation_manager)\u001b[0m\n\u001b[1;32m   1690\u001b[0m       \u001b[0;31m# No tape is watching; skip to running the function.\u001b[0m\u001b[0;34m\u001b[0m\u001b[0;34m\u001b[0m\u001b[0;34m\u001b[0m\u001b[0m\n\u001b[1;32m   1691\u001b[0m       return self._build_call_outputs(self._inference_function.call(\n\u001b[0;32m-> 1692\u001b[0;31m           ctx, args, cancellation_manager=cancellation_manager))\n\u001b[0m\u001b[1;32m   1693\u001b[0m     forward_backward = self._select_forward_and_backward_functions(\n\u001b[1;32m   1694\u001b[0m         \u001b[0margs\u001b[0m\u001b[0;34m,\u001b[0m\u001b[0;34m\u001b[0m\u001b[0;34m\u001b[0m\u001b[0m\n",
      "\u001b[0;32m~/anaconda3/envs/tensorflow2_p36/lib/python3.6/site-packages/tensorflow_core/python/eager/function.py\u001b[0m in \u001b[0;36mcall\u001b[0;34m(self, ctx, args, cancellation_manager)\u001b[0m\n\u001b[1;32m    543\u001b[0m               \u001b[0minputs\u001b[0m\u001b[0;34m=\u001b[0m\u001b[0margs\u001b[0m\u001b[0;34m,\u001b[0m\u001b[0;34m\u001b[0m\u001b[0;34m\u001b[0m\u001b[0m\n\u001b[1;32m    544\u001b[0m               \u001b[0mattrs\u001b[0m\u001b[0;34m=\u001b[0m\u001b[0;34m(\u001b[0m\u001b[0;34m\"executor_type\"\u001b[0m\u001b[0;34m,\u001b[0m \u001b[0mexecutor_type\u001b[0m\u001b[0;34m,\u001b[0m \u001b[0;34m\"config_proto\"\u001b[0m\u001b[0;34m,\u001b[0m \u001b[0mconfig\u001b[0m\u001b[0;34m)\u001b[0m\u001b[0;34m,\u001b[0m\u001b[0;34m\u001b[0m\u001b[0;34m\u001b[0m\u001b[0m\n\u001b[0;32m--> 545\u001b[0;31m               ctx=ctx)\n\u001b[0m\u001b[1;32m    546\u001b[0m         \u001b[0;32melse\u001b[0m\u001b[0;34m:\u001b[0m\u001b[0;34m\u001b[0m\u001b[0;34m\u001b[0m\u001b[0m\n\u001b[1;32m    547\u001b[0m           outputs = execute.execute_with_cancellation(\n",
      "\u001b[0;32m~/anaconda3/envs/tensorflow2_p36/lib/python3.6/site-packages/tensorflow_core/python/eager/execute.py\u001b[0m in \u001b[0;36mquick_execute\u001b[0;34m(op_name, num_outputs, inputs, attrs, ctx, name)\u001b[0m\n\u001b[1;32m     59\u001b[0m     tensors = pywrap_tensorflow.TFE_Py_Execute(ctx._handle, device_name,\n\u001b[1;32m     60\u001b[0m                                                \u001b[0mop_name\u001b[0m\u001b[0;34m,\u001b[0m \u001b[0minputs\u001b[0m\u001b[0;34m,\u001b[0m \u001b[0mattrs\u001b[0m\u001b[0;34m,\u001b[0m\u001b[0;34m\u001b[0m\u001b[0;34m\u001b[0m\u001b[0m\n\u001b[0;32m---> 61\u001b[0;31m                                                num_outputs)\n\u001b[0m\u001b[1;32m     62\u001b[0m   \u001b[0;32mexcept\u001b[0m \u001b[0mcore\u001b[0m\u001b[0;34m.\u001b[0m\u001b[0m_NotOkStatusException\u001b[0m \u001b[0;32mas\u001b[0m \u001b[0me\u001b[0m\u001b[0;34m:\u001b[0m\u001b[0;34m\u001b[0m\u001b[0;34m\u001b[0m\u001b[0m\n\u001b[1;32m     63\u001b[0m     \u001b[0;32mif\u001b[0m \u001b[0mname\u001b[0m \u001b[0;32mis\u001b[0m \u001b[0;32mnot\u001b[0m \u001b[0;32mNone\u001b[0m\u001b[0;34m:\u001b[0m\u001b[0;34m\u001b[0m\u001b[0;34m\u001b[0m\u001b[0m\n",
      "\u001b[0;31mKeyboardInterrupt\u001b[0m: "
     ]
    },
    {
     "data": {
      "image/png": "[encoded data removed]",
      "text/plain": [
       "<Figure size 432x288 with 2 Axes>"
      ]
     },
     "metadata": {
      "needs_background": "light"
     },
     "output_type": "display_data"
    },
    {
     "data": {
      "image/png": "[encoded data removed]",
      "text/plain": [
       "<Figure size 432x288 with 2 Axes>"
      ]
     },
     "metadata": {
      "needs_background": "light"
     },
     "output_type": "display_data"
    },
    {
     "data": {
      "image/png": "[encoded data removed]",
      "text/plain": [
       "<Figure size 432x288 with 2 Axes>"
      ]
     },
     "metadata": {
      "needs_background": "light"
     },
     "output_type": "display_data"
    },
    {
     "data": {
      "image/png": "[encoded data removed]",
      "text/plain": [
       "<Figure size 432x288 with 2 Axes>"
      ]
     },
     "metadata": {
      "needs_background": "light"
     },
     "output_type": "display_data"
    },
    {
     "data": {
      "image/png": "[encoded data removed]",
      "text/plain": [
       "<Figure size 432x288 with 2 Axes>"
      ]
     },
     "metadata": {
      "needs_background": "light"
     },
     "output_type": "display_data"
    }
   ],
   "source": [
    "proteins = list(data_final['protein'].unique())\n",
    "for protein in proteins:\n",
    "    baseline(protein)"
   ]
  }
 ],
 "metadata": {
  "kernelspec": {
   "display_name": "Environment (conda_tensorflow2_p36)",
   "language": "python",
   "name": "conda_tensorflow2_p36"
  },
  "language_info": {
   "codemirror_mode": {
    "name": "ipython",
    "version": 3
   },
   "file_extension": ".py",
   "mimetype": "text/x-python",
   "name": "python",
   "nbconvert_exporter": "python",
   "pygments_lexer": "ipython3",
   "version": "3.6.10"
  }
 },
 "nbformat": 4,
 "nbformat_minor": 4
}
