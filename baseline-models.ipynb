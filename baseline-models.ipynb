{
 "cells": [
  {
   "cell_type": "markdown",
   "metadata": {},
   "source": [
    "# Baseline Models\n",
    "\n",
    "We will develop the baseline neural network model (one hidden layer, 3-node softmax output) for comparisons for later architectures."
   ]
  },
  {
   "cell_type": "code",
   "execution_count": 104,
   "metadata": {},
   "outputs": [],
   "source": [
    "# Imports\n",
    "import pandas as pd\n",
    "import matplotlib.pyplot as plt\n",
    "import seaborn as sns\n",
    "import numpy as np\n",
    "from keras import optimizers\n",
    "from keras.models import Sequential\n",
    "from keras.layers import Dense\n",
    "from keras.wrappers.scikit_learn import KerasClassifier\n",
    "from keras.utils import np_utils\n",
    "from sklearn.model_selection import cross_val_score\n",
    "from sklearn.model_selection import KFold\n",
    "from sklearn.preprocessing import LabelEncoder\n",
    "from sklearn.preprocessing import scale\n",
    "from sklearn.preprocessing import StandardScaler\n",
    "from sklearn.metrics import precision_score\n",
    "from sklearn.metrics import confusion_matrix\n",
    "from sklearn.pipeline import Pipeline"
   ]
  },
  {
   "cell_type": "code",
   "execution_count": 105,
   "metadata": {},
   "outputs": [],
   "source": [
    "# Reading in Data\n",
    "data_path = 'data/merged.csv'\n",
    "data = pd.read_csv(data_path)"
   ]
  },
  {
   "cell_type": "code",
   "execution_count": 131,
   "metadata": {},
   "outputs": [],
   "source": [
    "# Function to convert data to classification\n",
    "def label_type(row):\n",
    "    \"\"\" Converts continuous label to categorical label\n",
    "    \"\"\"\n",
    "    if row['scaled_effect'] < .9:\n",
    "        return('Deleterious')\n",
    "    elif row['scaled_effect'] > 1.1:\n",
    "        return('Beneficial')\n",
    "    else:\n",
    "        return('Neutral')"
   ]
  },
  {
   "cell_type": "code",
   "execution_count": 132,
   "metadata": {},
   "outputs": [],
   "source": [
    "# Change to classification\n",
    "data['type'] = data.apply(lambda row: label_type(row), axis = 1)\n",
    "data_final = data.drop(['scaled_effect'], axis=1)"
   ]
  },
  {
   "cell_type": "code",
   "execution_count": 133,
   "metadata": {},
   "outputs": [],
   "source": [
    "# LOPO Splitting\n",
    "def train_test_split(protein, curr_data):\n",
    "    train_data = curr_data[curr_data.protein != protein].drop(['protein', 'pdb', 'resnum'], axis=1)\n",
    "    test_data = curr_data[curr_data.protein == protein].drop(['protein', 'pdb', 'resnum'], axis=1)\n",
    "    \n",
    "    y_train = train_data.type\n",
    "    encoder = LabelEncoder()\n",
    "    encoder.fit(y_train)\n",
    "    encoded_y_train = encoder.transform(y_train)\n",
    "    y_train_oh = np_utils.to_categorical(encoded_y_train)\n",
    "    \n",
    "    scaler_train = StandardScaler()\n",
    "    x_train = train_data.drop(['type'], axis=1)\n",
    "    x_columns = x_train.columns\n",
    "    x_train = scaler_train.fit_transform(x_train)\n",
    "    x_train = pd.DataFrame(x_train, columns=x_columns)\n",
    "    \n",
    "    y_test = test_data.type\n",
    "    encoder = LabelEncoder()\n",
    "    encoder.fit(y_test)\n",
    "    encoded_y_test = encoder.transform(y_test)\n",
    "    y_test_oh = np_utils.to_categorical(encoded_y_test)\n",
    "    \n",
    "    scaler_test = StandardScaler()\n",
    "    x_test = test_data.drop(['type'], axis=1)\n",
    "    x_test = scaler_test.fit_transform(x_test)\n",
    "    x_test = pd.DataFrame(x_test, columns=x_columns)\n",
    "\n",
    "    return x_train, y_train_oh, x_test, y_test_oh"
   ]
  },
  {
   "cell_type": "code",
   "execution_count": 134,
   "metadata": {},
   "outputs": [],
   "source": [
    "# Baseline Model\n",
    "def baseline_model():\n",
    "    model = Sequential()\n",
    "    model.add(Dense(256, input_dim = 108, activation = 'relu', kernel_regularizer='l2'))\n",
    "    model.add(Dense(3, activation='softmax'))\n",
    "    opt = optimizers.Adam(learning_rate = 0.001)\n",
    "    model.compile(loss='categorical_crossentropy', optimizer=opt, metrics=['accuracy'])\n",
    "    return(model)"
   ]
  },
  {
   "cell_type": "code",
   "execution_count": 135,
   "metadata": {},
   "outputs": [],
   "source": [
    "# Baseline Analysis\n",
    "def baseline(protein):\n",
    "    # Split Training Data based on Protein\n",
    "    x_train, y_train, x_test, y_test = train_test_split(protein, data_final)\n",
    "    \n",
    "    # Build Model\n",
    "    # 40 epochs based on initial runs and graphing of loss over time.\n",
    "    estimator = KerasClassifier(build_fn=baseline_model, epochs=20, batch_size=64, verbose=1)\n",
    "    estimator.fit(x_train, y_train, verbose=1)\n",
    "    \n",
    "    # Generate Analysis Characteristics\n",
    "    probs = estimator.predict_proba(x_test)\n",
    "    predictions = estimator.predict(x_test)\n",
    "    precision = precision_score(np.argmax(y_test,1), predictions, average=\"macro\", zero_division=0)\n",
    "    score = estimator.score(x_test, y_test)\n",
    "\n",
    "    print('Accuracy: {}'.format(score))\n",
    "    print('Precision: {}'.format(precision))\n",
    "    \n",
    "    # Plotting Confusion Matrices\n",
    "    cmatrix = confusion_matrix(np.argmax(y_test,1), predictions)\n",
    "    fig, ax = plt.subplots()\n",
    "    sns.heatmap(cmatrix, xticklabels = ['Beneficial', 'Deleterious', 'Neutral'], yticklabels = ['Beneficial', 'Deleterious', 'Neutral'])\n",
    "    ax.set_title('{}'.format(protein))\n",
    "    plt.savefig('img/baseline-cmatrix/' + protein + '-baseline-cmatrix.png', dpi=300)"
   ]
  },
  {
   "cell_type": "code",
   "execution_count": 137,
   "metadata": {
    "scrolled": false
   },
   "outputs": [
    {
     "name": "stdout",
     "output_type": "stream",
     "text": [
      "Epoch 1/20\n",
      "24441/24441 [==============================] - 1s 53us/step - loss: 1.2024 - accuracy: 0.6920\n",
      "Epoch 2/20\n",
      "24441/24441 [==============================] - 1s 45us/step - loss: 0.7615 - accuracy: 0.7071\n",
      "Epoch 3/20\n",
      "24441/24441 [==============================] - 1s 46us/step - loss: 0.7285 - accuracy: 0.7127\n",
      "Epoch 4/20\n",
      "24441/24441 [==============================] - 1s 45us/step - loss: 0.7213 - accuracy: 0.7149\n",
      "Epoch 5/20\n",
      "24441/24441 [==============================] - 1s 50us/step - loss: 0.7143 - accuracy: 0.7163\n",
      "Epoch 6/20\n",
      "24441/24441 [==============================] - 1s 51us/step - loss: 0.7118 - accuracy: 0.7185\n",
      "Epoch 7/20\n",
      "24441/24441 [==============================] - 1s 46us/step - loss: 0.7066 - accuracy: 0.7199\n",
      "Epoch 8/20\n",
      "24441/24441 [==============================] - 1s 49us/step - loss: 0.7046 - accuracy: 0.7210\n",
      "Epoch 9/20\n",
      "24441/24441 [==============================] - 1s 48us/step - loss: 0.7006 - accuracy: 0.7222\n",
      "Epoch 10/20\n",
      "24441/24441 [==============================] - 1s 45us/step - loss: 0.6963 - accuracy: 0.7232\n",
      "Epoch 11/20\n",
      "24441/24441 [==============================] - 1s 49us/step - loss: 0.6941 - accuracy: 0.7262\n",
      "Epoch 12/20\n",
      "24441/24441 [==============================] - 1s 45us/step - loss: 0.6910 - accuracy: 0.7271\n",
      "Epoch 13/20\n",
      "24441/24441 [==============================] - 1s 45us/step - loss: 0.6874 - accuracy: 0.7310\n",
      "Epoch 14/20\n",
      "24441/24441 [==============================] - 1s 48us/step - loss: 0.6853 - accuracy: 0.7291\n",
      "Epoch 15/20\n",
      "24441/24441 [==============================] - 1s 45us/step - loss: 0.6826 - accuracy: 0.7320\n",
      "Epoch 16/20\n",
      "24441/24441 [==============================] - 1s 45us/step - loss: 0.6805 - accuracy: 0.7325\n",
      "Epoch 17/20\n",
      "24441/24441 [==============================] - 1s 45us/step - loss: 0.6779 - accuracy: 0.7336\n",
      "Epoch 18/20\n",
      "24441/24441 [==============================] - 1s 45us/step - loss: 0.6780 - accuracy: 0.7327\n",
      "Epoch 19/20\n",
      "24441/24441 [==============================] - 1s 46us/step - loss: 0.6745 - accuracy: 0.7347\n",
      "Epoch 20/20\n",
      "24441/24441 [==============================] - 1s 45us/step - loss: 0.6720 - accuracy: 0.7355\n",
      "25140/25140 [==============================] - 0s 11us/step\n",
      "25140/25140 [==============================] - 0s 11us/step\n",
      "25140/25140 [==============================] - 1s 28us/step\n",
      "Accuracy: 0.43571996688842773\n",
      "Precision: 0.43615410713615743\n",
      "Epoch 1/20\n",
      "29106/29106 [==============================] - 1s 49us/step - loss: 1.1368 - accuracy: 0.6781\n",
      "Epoch 2/20\n",
      "29106/29106 [==============================] - 1s 47us/step - loss: 0.7565 - accuracy: 0.6889\n",
      "Epoch 3/20\n",
      "29106/29106 [==============================] - 1s 46us/step - loss: 0.7341 - accuracy: 0.6919\n",
      "Epoch 4/20\n",
      "29106/29106 [==============================] - 1s 46us/step - loss: 0.7296 - accuracy: 0.6950\n",
      "Epoch 5/20\n",
      "29106/29106 [==============================] - 1s 50us/step - loss: 0.7231 - accuracy: 0.6966\n",
      "Epoch 6/20\n",
      "29106/29106 [==============================] - 1s 49us/step - loss: 0.7196 - accuracy: 0.6993\n",
      "Epoch 7/20\n",
      "29106/29106 [==============================] - 2s 53us/step - loss: 0.7168 - accuracy: 0.6983\n",
      "Epoch 8/20\n",
      "29106/29106 [==============================] - 1s 50us/step - loss: 0.7140 - accuracy: 0.7012\n",
      "Epoch 9/20\n",
      "29106/29106 [==============================] - 1s 46us/step - loss: 0.7105 - accuracy: 0.7030\n",
      "Epoch 10/20\n",
      "29106/29106 [==============================] - 1s 47us/step - loss: 0.7095 - accuracy: 0.7034\n",
      "Epoch 11/20\n",
      "29106/29106 [==============================] - 2s 53us/step - loss: 0.7061 - accuracy: 0.7054\n",
      "Epoch 12/20\n",
      "29106/29106 [==============================] - 1s 50us/step - loss: 0.7024 - accuracy: 0.7071\n",
      "Epoch 13/20\n",
      "29106/29106 [==============================] - 1s 51us/step - loss: 0.7009 - accuracy: 0.7071\n",
      "Epoch 14/20\n",
      "29106/29106 [==============================] - 1s 50us/step - loss: 0.7005 - accuracy: 0.7089\n",
      "Epoch 15/20\n",
      "29106/29106 [==============================] - 2s 52us/step - loss: 0.6983 - accuracy: 0.7080\n",
      "Epoch 16/20\n",
      "29106/29106 [==============================] - 1s 51us/step - loss: 0.6973 - accuracy: 0.7078\n",
      "Epoch 17/20\n",
      "29106/29106 [==============================] - 1s 46us/step - loss: 0.6949 - accuracy: 0.7079\n",
      "Epoch 18/20\n",
      "29106/29106 [==============================] - 1s 48us/step - loss: 0.6916 - accuracy: 0.7113\n",
      "Epoch 19/20\n",
      "29106/29106 [==============================] - 1s 49us/step - loss: 0.6912 - accuracy: 0.7100\n",
      "Epoch 20/20\n",
      "29106/29106 [==============================] - 1s 49us/step - loss: 0.6901 - accuracy: 0.7124\n",
      "20475/20475 [==============================] - 0s 11us/step\n",
      "20475/20475 [==============================] - 0s 11us/step\n",
      "20475/20475 [==============================] - 1s 29us/step\n",
      "Accuracy: 0.4688156247138977\n",
      "Precision: 0.32230678114218736\n"
     ]
    },
    {
     "data": {
      "image/png": "[encoded data removed]",
      "text/plain": [
       "<Figure size 432x288 with 2 Axes>"
      ]
     },
     "metadata": {
      "needs_background": "light"
     },
     "output_type": "display_data"
    },
    {
     "data": {
      "image/png": "[encoded data removed]",
      "text/plain": [
       "<Figure size 432x288 with 2 Axes>"
      ]
     },
     "metadata": {
      "needs_background": "light"
     },
     "output_type": "display_data"
    }
   ],
   "source": [
    "# Only Run TEM-1 and Kka2 because other proteins have too little data for neural network training\n",
    "baseline('TEM-1')\n",
    "baseline('Kka2')"
   ]
  },
  {
   "cell_type": "code",
   "execution_count": null,
   "metadata": {},
   "outputs": [],
   "source": []
  }
 ],
 "metadata": {
  "kernelspec": {
   "display_name": "Environment (conda_tensorflow2_p36)",
   "language": "python",
   "name": "conda_tensorflow2_p36"
  },
  "language_info": {
   "codemirror_mode": {
    "name": "ipython",
    "version": 3
   },
   "file_extension": ".py",
   "mimetype": "text/x-python",
   "name": "python",
   "nbconvert_exporter": "python",
   "pygments_lexer": "ipython3",
   "version": "3.6.10"
  }
 },
 "nbformat": 4,
 "nbformat_minor": 4
}
