{
 "cells": [
  {
   "cell_type": "markdown",
   "metadata": {},
   "source": [
    "# Baseline Models\n",
    "\n",
    "We will develop the baseline neural network model (one hidden layer, 3-node softmax output) for comparisons for later architectures."
   ]
  },
  {
   "cell_type": "code",
   "execution_count": 17,
   "metadata": {},
   "outputs": [],
   "source": [
    "# Imports\n",
    "import pandas as pd\n",
    "import matplotlib.pyplot as plt\n",
    "import seaborn as sns\n",
    "from keras.models import Sequential\n",
    "from keras.layers import Dense\n",
    "from keras.wrappers.scikit_learn import KerasClassifier\n",
    "from keras.utils import np_utils\n",
    "from sklearn.model_selection import cross_val_score\n",
    "from sklearn.model_selection import KFold\n",
    "from sklearn.preprocessing import LabelEncoder\n",
    "from sklearn.preprocessing import scale\n",
    "from sklearn.metrics import precision_score\n",
    "from sklearn.metrics import confusion_matrix\n",
    "from sklearn.pipeline import Pipeline"
   ]
  },
  {
   "cell_type": "code",
   "execution_count": 2,
   "metadata": {},
   "outputs": [],
   "source": [
    "# Reading in Data\n",
    "data_path = 'data/merged.csv'\n",
    "data = pd.read_csv(data_path)"
   ]
  },
  {
   "cell_type": "code",
   "execution_count": 3,
   "metadata": {},
   "outputs": [],
   "source": [
    "# Function to convert data to classification\n",
    "def label_type(row):\n",
    "    \"\"\" Converts continuous label to categorical label\n",
    "    \"\"\"\n",
    "    if row['scaled_effect'] < .99:\n",
    "        return('Deleterious')\n",
    "    elif row['scaled_effect'] > 1.1:\n",
    "        return('Beneficial')\n",
    "    else:\n",
    "        return('Netural')"
   ]
  },
  {
   "cell_type": "code",
   "execution_count": 4,
   "metadata": {},
   "outputs": [],
   "source": [
    "# Change to classification\n",
    "data['type'] = data.apply(lambda row: label_type(row), axis = 1)\n",
    "data_final = data.drop(['scaled_effect'], axis=1)"
   ]
  },
  {
   "cell_type": "code",
   "execution_count": 5,
   "metadata": {},
   "outputs": [],
   "source": [
    "# LOPO Splitting\n",
    "def train_test_split(protein, curr_data):\n",
    "    train_data = curr_data[data.protein != protein].drop(['protein', 'pdb', 'resnum'], axis=1)\n",
    "    test_data = curr_data[data.protein == protein].drop(['protein', 'pdb', 'resnum'], axis=1)\n",
    "    \n",
    "    y_train = train_data.type\n",
    "    x_train = train_data.drop(['type'], axis=1)\n",
    "    y_test = test_data.type\n",
    "    x_test = test_data.drop(['type'], axis=1)\n",
    "\n",
    "    return x_train, y_train, x_test, y_test"
   ]
  },
  {
   "cell_type": "code",
   "execution_count": 7,
   "metadata": {},
   "outputs": [],
   "source": [
    "x_train, y_train, x_test, y_test = train_test_split('PSD95pdz3', data_final)"
   ]
  },
  {
   "cell_type": "code",
   "execution_count": 19,
   "metadata": {},
   "outputs": [],
   "source": [
    "# Baseline Model\n",
    "def baseline_model():\n",
    "    model = Sequential()\n",
    "    model.add(Dense(800, input_dim = 968, activation = 'relu'))\n",
    "    model.add(Dense(3, activation='softmax'))\n",
    "    opt = keras.optimizers.Adam(learning_rate = 0.1)\n",
    "    model.compile(loss='categorical_crossentropy', optimizer=opt, metrics=['accuracy'])\n",
    "    return(model)"
   ]
  },
  {
   "cell_type": "code",
   "execution_count": 21,
   "metadata": {},
   "outputs": [
    {
     "name": "stderr",
     "output_type": "stream",
     "text": [
      "/home/ubuntu/anaconda3/envs/tensorflow2_p36/lib/python3.6/site-packages/sklearn/metrics/_classification.py:1272: UndefinedMetricWarning: Precision is ill-defined and being set to 0.0 in labels with no predicted samples. Use `zero_division` parameter to control this behavior.\n",
      "  _warn_prf(average, modifier, msg_start, len(result))\n"
     ]
    },
    {
     "name": "stdout",
     "output_type": "stream",
     "text": [
      "Accuracy: 0.529187798500061\n",
      "Precision: 0.41648693985142576\n"
     ]
    },
    {
     "ename": "NameError",
     "evalue": "name 'protein' is not defined",
     "output_type": "error",
     "traceback": [
      "\u001b[0;31m---------------------------------------------------------------------------\u001b[0m",
      "\u001b[0;31mNameError\u001b[0m                                 Traceback (most recent call last)",
      "\u001b[0;32m<ipython-input-21-3f1c08834e9d>\u001b[0m in \u001b[0;36m<module>\u001b[0;34m\u001b[0m\n\u001b[1;32m     12\u001b[0m \u001b[0mfig\u001b[0m\u001b[0;34m,\u001b[0m \u001b[0max\u001b[0m \u001b[0;34m=\u001b[0m \u001b[0mplt\u001b[0m\u001b[0;34m.\u001b[0m\u001b[0msubplots\u001b[0m\u001b[0;34m(\u001b[0m\u001b[0;34m)\u001b[0m\u001b[0;34m\u001b[0m\u001b[0;34m\u001b[0m\u001b[0m\n\u001b[1;32m     13\u001b[0m \u001b[0msns\u001b[0m\u001b[0;34m.\u001b[0m\u001b[0mheatmap\u001b[0m\u001b[0;34m(\u001b[0m\u001b[0mcmatrix\u001b[0m\u001b[0;34m,\u001b[0m \u001b[0mxticklabels\u001b[0m \u001b[0;34m=\u001b[0m \u001b[0;34m[\u001b[0m\u001b[0;34m'Beneficial'\u001b[0m\u001b[0;34m,\u001b[0m \u001b[0;34m'Deleterious'\u001b[0m\u001b[0;34m,\u001b[0m \u001b[0;34m'Neutral'\u001b[0m\u001b[0;34m]\u001b[0m\u001b[0;34m,\u001b[0m \u001b[0myticklabels\u001b[0m \u001b[0;34m=\u001b[0m \u001b[0;34m[\u001b[0m\u001b[0;34m'Beneficial'\u001b[0m\u001b[0;34m,\u001b[0m \u001b[0;34m'Deleterious'\u001b[0m\u001b[0;34m,\u001b[0m \u001b[0;34m'Neutral'\u001b[0m\u001b[0;34m]\u001b[0m\u001b[0;34m)\u001b[0m\u001b[0;34m\u001b[0m\u001b[0;34m\u001b[0m\u001b[0m\n\u001b[0;32m---> 14\u001b[0;31m \u001b[0max\u001b[0m\u001b[0;34m.\u001b[0m\u001b[0mset_title\u001b[0m\u001b[0;34m(\u001b[0m\u001b[0;34m'{}'\u001b[0m\u001b[0;34m.\u001b[0m\u001b[0mformat\u001b[0m\u001b[0;34m(\u001b[0m\u001b[0mprotein\u001b[0m\u001b[0;34m)\u001b[0m\u001b[0;34m)\u001b[0m\u001b[0;34m\u001b[0m\u001b[0;34m\u001b[0m\u001b[0m\n\u001b[0m\u001b[1;32m     15\u001b[0m \u001b[0mplt\u001b[0m\u001b[0;34m.\u001b[0m\u001b[0msavefig\u001b[0m\u001b[0;34m(\u001b[0m\u001b[0;34m'img/'\u001b[0m \u001b[0;34m+\u001b[0m \u001b[0;34m'PSD95pdz3'\u001b[0m \u001b[0;34m+\u001b[0m \u001b[0;34m'-baseline-cmatrix.png'\u001b[0m\u001b[0;34m,\u001b[0m \u001b[0mdpi\u001b[0m\u001b[0;34m=\u001b[0m\u001b[0;36m300\u001b[0m\u001b[0;34m)\u001b[0m\u001b[0;34m\u001b[0m\u001b[0;34m\u001b[0m\u001b[0m\n",
      "\u001b[0;31mNameError\u001b[0m: name 'protein' is not defined"
     ]
    },
    {
     "data": {
      "image/png": "[encoded data removed]",
      "text/plain": [
       "<Figure size 432x288 with 2 Axes>"
      ]
     },
     "metadata": {
      "needs_background": "light"
     },
     "output_type": "display_data"
    }
   ],
   "source": [
    "# Baseline Analysis\n",
    "def baseline(protein):\n",
    "    # Split Training Data based on Protein\n",
    "    x_train, y_train, x_test, y_test = train_test_split(protein, data_final)\n",
    "    \n",
    "    # Build Model\n",
    "    # 40 epochs based on initial runs and graphing of loss over time.\n",
    "    estimator = KerasClassifier(build_fn=base_model, epochs=40, batch_size=10, verbose=1)\n",
    "    estimator.fit(x_train, y_train, verbose=1)\n",
    "    \n",
    "    # Generate Analysis Characteristics\n",
    "    probs = estimator.predict_proba(x_test)\n",
    "    predictions = estimator.predict(x_test)\n",
    "    precision = precision_score(y_test, predictions, average=\"macro\")\n",
    "    score = estimator.score(x_test, y_test)\n",
    "\n",
    "    print('Accuracy: {}'.format(score))\n",
    "    print('Precision: {}'.format(precision))\n",
    "    \n",
    "    # Plotting Confusion Matrices\n",
    "    cmatrix = confusion_matrix(y_test, predictions)\n",
    "    fig, ax = plt.subplots()\n",
    "    sns.heatmap(cmatrix, xticklabels = ['Beneficial', 'Deleterious', 'Neutral'], yticklabels = ['Beneficial', 'Deleterious', 'Neutral'])\n",
    "    ax.set_title('{}'.format(protein))\n",
    "    plt.savefig('img/' + protein + '-baseline-cmatrix.png', dpi=300)"
   ]
  },
  {
   "cell_type": "code",
   "execution_count": null,
   "metadata": {},
   "outputs": [],
   "source": []
  }
 ],
 "metadata": {
  "kernelspec": {
   "display_name": "Environment (conda_tensorflow2_p36)",
   "language": "python",
   "name": "conda_tensorflow2_p36"
  },
  "language_info": {
   "codemirror_mode": {
    "name": "ipython",
    "version": 3
   },
   "file_extension": ".py",
   "mimetype": "text/x-python",
   "name": "python",
   "nbconvert_exporter": "python",
   "pygments_lexer": "ipython3",
   "version": "3.6.10"
  }
 },
 "nbformat": 4,
 "nbformat_minor": 4
}
