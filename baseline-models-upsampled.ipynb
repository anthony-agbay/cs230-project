{
 "cells": [
  {
   "cell_type": "markdown",
   "metadata": {},
   "source": [
    "# Baseline Models\n",
    "\n",
    "We will develop the baseline neural network model (one hidden layer, 3-node softmax output) for comparisons for later architectures."
   ]
  },
  {
   "cell_type": "code",
   "execution_count": 1,
   "metadata": {},
   "outputs": [
    {
     "name": "stderr",
     "output_type": "stream",
     "text": [
      "Using TensorFlow backend.\n"
     ]
    }
   ],
   "source": [
    "# Imports\n",
    "import pandas as pd\n",
    "import matplotlib.pyplot as plt\n",
    "import seaborn as sns\n",
    "import numpy as np\n",
    "from keras import optimizers\n",
    "from keras.models import Sequential\n",
    "from keras.layers import Dense\n",
    "from keras.wrappers.scikit_learn import KerasClassifier\n",
    "from keras.utils import np_utils\n",
    "from sklearn.model_selection import cross_val_score\n",
    "from sklearn.model_selection import KFold\n",
    "from sklearn.preprocessing import LabelEncoder\n",
    "from sklearn.preprocessing import scale\n",
    "from sklearn.preprocessing import StandardScaler\n",
    "from sklearn.metrics import precision_score\n",
    "from sklearn.metrics import recall_score\n",
    "from sklearn.metrics import confusion_matrix\n",
    "from sklearn.pipeline import Pipeline"
   ]
  },
  {
   "cell_type": "code",
   "execution_count": 2,
   "metadata": {},
   "outputs": [],
   "source": [
    "# Reading in Data\n",
    "data_path = 'data/upsampled_data.csv'\n",
    "data_final = pd.read_csv(data_path)\n",
    "data_final = data_final.drop(['Unnamed: 0', 'Unnamed: 0.1'], axis=1)"
   ]
  },
  {
   "cell_type": "code",
   "execution_count": 3,
   "metadata": {},
   "outputs": [
    {
     "data": {
      "text/plain": [
       "(68955, 111)"
      ]
     },
     "execution_count": 3,
     "metadata": {},
     "output_type": "execute_result"
    }
   ],
   "source": [
    "data_final.shape"
   ]
  },
  {
   "cell_type": "code",
   "execution_count": 4,
   "metadata": {},
   "outputs": [],
   "source": [
    "# LOPO Splitting\n",
    "def train_test_split(protein, curr_data):\n",
    "    \"\"\" Leave-one-protein-out splitting method\n",
    "    \"\"\"\n",
    "    # Split Data\n",
    "    train_data = curr_data[curr_data.protein != protein].drop(['protein', 'pdb', 'resnum'], axis=1)\n",
    "    test_data = curr_data[curr_data.protein == protein].drop(['protein', 'pdb', 'resnum'], axis=1)\n",
    "    \n",
    "    # One-hot encode labels\n",
    "    y_train = train_data.type\n",
    "    encoder = LabelEncoder()\n",
    "    encoder.fit(y_train)\n",
    "    encoded_y_train = encoder.transform(y_train)\n",
    "    y_train_oh = np_utils.to_categorical(encoded_y_train)\n",
    "    \n",
    "    # Scale and normalize features\n",
    "    scaler_train = StandardScaler()\n",
    "    x_train = train_data.drop(['type'], axis=1)\n",
    "    x_columns = x_train.columns\n",
    "    x_train = scaler_train.fit_transform(x_train)\n",
    "    x_train = pd.DataFrame(x_train, columns=x_columns)\n",
    "    \n",
    "    # One-hot encode labels\n",
    "    y_test = test_data.type\n",
    "    encoder = LabelEncoder()\n",
    "    encoder.fit(y_test)\n",
    "    encoded_y_test = encoder.transform(y_test)\n",
    "    y_test_oh = np_utils.to_categorical(encoded_y_test)\n",
    "    \n",
    "    # Scale and normalize features\n",
    "    scaler_test = StandardScaler()\n",
    "    x_test = test_data.drop(['type'], axis=1)\n",
    "    x_test = scaler_test.fit_transform(x_test)\n",
    "    x_test = pd.DataFrame(x_test, columns=x_columns)\n",
    "\n",
    "    return x_train, y_train_oh, x_test, y_test_oh"
   ]
  },
  {
   "cell_type": "code",
   "execution_count": 5,
   "metadata": {},
   "outputs": [],
   "source": [
    "# Baseline Model\n",
    "def baseline_model():\n",
    "    \"\"\" Keras model definition\n",
    "    \"\"\"\n",
    "    model = Sequential()\n",
    "    model.add(Dense(256, input_dim = 107, activation = 'relu'))\n",
    "    model.add(Dense(3, activation='softmax'))\n",
    "    opt = optimizers.Adam(learning_rate = 0.01)\n",
    "    model.compile(loss='categorical_crossentropy', optimizer=opt, metrics=['accuracy'])\n",
    "    return(model)"
   ]
  },
  {
   "cell_type": "code",
   "execution_count": 6,
   "metadata": {},
   "outputs": [],
   "source": [
    "# Baseline Analysis\n",
    "def baseline(protein):\n",
    "    # Split Training Data based on Protein\n",
    "    x_train, y_train, x_test, y_test = train_test_split(protein, data_final)\n",
    "    \n",
    "    # Build Model\n",
    "    # 40 epochs based on initial runs and graphing of loss over time.\n",
    "    estimator = KerasClassifier(build_fn=baseline_model, epochs=20, batch_size=64, verbose=1)\n",
    "    estimator.fit(x_train, y_train, verbose=1)\n",
    "    \n",
    "    # Generate Analysis Characteristics\n",
    "    probs = estimator.predict_proba(x_test)\n",
    "    predictions = estimator.predict(x_test)\n",
    "    precision = precision_score(np.argmax(y_test,1), predictions, average=\"macro\", zero_division=0)\n",
    "    recall = recall_score(np.argmax(y_test,1), predictions, average=\"macro\", zero_division=0)\n",
    "    score = estimator.score(x_test, y_test)\n",
    "\n",
    "    print('Accuracy: {}'.format(score))\n",
    "    print('Precision: {}'.format(precision))\n",
    "    print('Recall: {}'.format(recall))\n",
    "    \n",
    "    # Plotting Confusion Matrices\n",
    "    cmatrix = confusion_matrix(np.argmax(y_test,1), predictions)\n",
    "    fig, ax = plt.subplots()\n",
    "    sns.heatmap(cmatrix, xticklabels = ['Beneficial', 'Deleterious', 'Neutral'], yticklabels = ['Beneficial', 'Deleterious', 'Neutral'])\n",
    "    ax.set_title('{}'.format(protein))\n",
    "    plt.savefig('img/baseline-upsampled-cmatrix/' + protein + '-baseline-upsampled-cmatrix.png', dpi=300)"
   ]
  },
  {
   "cell_type": "code",
   "execution_count": 7,
   "metadata": {
    "scrolled": false
   },
   "outputs": [
    {
     "name": "stdout",
     "output_type": "stream",
     "text": [
      "Epoch 1/20\n",
      "39750/39750 [==============================] - 2s 55us/step - loss: 0.9277 - accuracy: 0.5593\n",
      "Epoch 2/20\n",
      "39750/39750 [==============================] - 2s 48us/step - loss: 0.8626 - accuracy: 0.5954\n",
      "Epoch 3/20\n",
      "39750/39750 [==============================] - 2s 48us/step - loss: 0.8376 - accuracy: 0.6128\n",
      "Epoch 4/20\n",
      "39750/39750 [==============================] - 2s 48us/step - loss: 0.8128 - accuracy: 0.6291\n",
      "Epoch 5/20\n",
      "39750/39750 [==============================] - 2s 48us/step - loss: 0.7951 - accuracy: 0.6387\n",
      "Epoch 6/20\n",
      "39750/39750 [==============================] - 2s 48us/step - loss: 0.7792 - accuracy: 0.6495\n",
      "Epoch 7/20\n",
      "39750/39750 [==============================] - 2s 48us/step - loss: 0.7652 - accuracy: 0.6585\n",
      "Epoch 8/20\n",
      "39750/39750 [==============================] - 2s 48us/step - loss: 0.7487 - accuracy: 0.6674\n",
      "Epoch 9/20\n",
      "39750/39750 [==============================] - 2s 48us/step - loss: 0.7386 - accuracy: 0.6728\n",
      "Epoch 10/20\n",
      "39750/39750 [==============================] - 2s 48us/step - loss: 0.7236 - accuracy: 0.6799\n",
      "Epoch 11/20\n",
      "39750/39750 [==============================] - 2s 48us/step - loss: 0.7145 - accuracy: 0.6843\n",
      "Epoch 12/20\n",
      "39750/39750 [==============================] - 2s 48us/step - loss: 0.7036 - accuracy: 0.6913\n",
      "Epoch 13/20\n",
      "39750/39750 [==============================] - 2s 48us/step - loss: 0.6946 - accuracy: 0.6978\n",
      "Epoch 14/20\n",
      "39750/39750 [==============================] - 2s 49us/step - loss: 0.6906 - accuracy: 0.7005\n",
      "Epoch 15/20\n",
      "39750/39750 [==============================] - 2s 49us/step - loss: 0.6886 - accuracy: 0.7002\n",
      "Epoch 16/20\n",
      "39750/39750 [==============================] - 2s 48us/step - loss: 0.6825 - accuracy: 0.7032\n",
      "Epoch 17/20\n",
      "39750/39750 [==============================] - 2s 48us/step - loss: 0.6740 - accuracy: 0.7119\n",
      "Epoch 18/20\n",
      "39750/39750 [==============================] - 2s 48us/step - loss: 0.6731 - accuracy: 0.7094\n",
      "Epoch 19/20\n",
      "39750/39750 [==============================] - 2s 48us/step - loss: 0.6617 - accuracy: 0.7153\n",
      "Epoch 20/20\n",
      "39750/39750 [==============================] - 2s 49us/step - loss: 0.6579 - accuracy: 0.7187\n",
      "29205/29205 [==============================] - 0s 12us/step\n",
      "29205/29205 [==============================] - 0s 12us/step\n",
      "29205/29205 [==============================] - 1s 30us/step\n",
      "Accuracy: 0.413148432970047\n",
      "Precision: 0.40352591194300774\n",
      "Recall: 0.41314843348741653\n",
      "Epoch 1/20\n",
      "32595/32595 [==============================] - 2s 51us/step - loss: 0.9066 - accuracy: 0.5868\n",
      "Epoch 2/20\n",
      "32595/32595 [==============================] - 2s 49us/step - loss: 0.7936 - accuracy: 0.6483\n",
      "Epoch 3/20\n",
      "32595/32595 [==============================] - 2s 48us/step - loss: 0.7486 - accuracy: 0.6711\n",
      "Epoch 4/20\n",
      "32595/32595 [==============================] - 2s 48us/step - loss: 0.7278 - accuracy: 0.6797\n",
      "Epoch 5/20\n",
      "32595/32595 [==============================] - 2s 48us/step - loss: 0.7006 - accuracy: 0.6938\n",
      "Epoch 6/20\n",
      "32595/32595 [==============================] - 2s 50us/step - loss: 0.6819 - accuracy: 0.7021\n",
      "Epoch 7/20\n",
      "32595/32595 [==============================] - 2s 48us/step - loss: 0.6639 - accuracy: 0.7119\n",
      "Epoch 8/20\n",
      "32595/32595 [==============================] - 2s 48us/step - loss: 0.6551 - accuracy: 0.7189\n",
      "Epoch 9/20\n",
      "32595/32595 [==============================] - 2s 49us/step - loss: 0.6393 - accuracy: 0.7273\n",
      "Epoch 10/20\n",
      "32595/32595 [==============================] - 2s 48us/step - loss: 0.6258 - accuracy: 0.7322\n",
      "Epoch 11/20\n",
      "32595/32595 [==============================] - 2s 48us/step - loss: 0.6161 - accuracy: 0.7345\n",
      "Epoch 12/20\n",
      "32595/32595 [==============================] - 2s 48us/step - loss: 0.6071 - accuracy: 0.7423\n",
      "Epoch 13/20\n",
      "32595/32595 [==============================] - 2s 48us/step - loss: 0.5965 - accuracy: 0.7459\n",
      "Epoch 14/20\n",
      "32595/32595 [==============================] - 2s 50us/step - loss: 0.5938 - accuracy: 0.7479\n",
      "Epoch 15/20\n",
      "32595/32595 [==============================] - 2s 49us/step - loss: 0.5803 - accuracy: 0.7548\n",
      "Epoch 16/20\n",
      "32595/32595 [==============================] - 2s 48us/step - loss: 0.5794 - accuracy: 0.7559\n",
      "Epoch 17/20\n",
      "32595/32595 [==============================] - 2s 48us/step - loss: 0.5721 - accuracy: 0.7594\n",
      "Epoch 18/20\n",
      "32595/32595 [==============================] - 2s 48us/step - loss: 0.5629 - accuracy: 0.7610\n",
      "Epoch 19/20\n",
      "32595/32595 [==============================] - 2s 48us/step - loss: 0.5630 - accuracy: 0.7624\n",
      "Epoch 20/20\n",
      "32595/32595 [==============================] - 2s 49us/step - loss: 0.5551 - accuracy: 0.7643\n",
      "36360/36360 [==============================] - 0s 12us/step\n",
      "36360/36360 [==============================] - 0s 11us/step\n",
      "36360/36360 [==============================] - 1s 31us/step\n",
      "Accuracy: 0.4353410303592682\n",
      "Precision: 0.44174145493035893\n",
      "Recall: 0.4353410341034103\n"
     ]
    },
    {
     "data": {
      "image/png": "[encoded data removed]",
      "text/plain": [
       "<Figure size 432x288 with 2 Axes>"
      ]
     },
     "metadata": {
      "needs_background": "light"
     },
     "output_type": "display_data"
    },
    {
     "data": {
      "image/png": "[encoded data removed]",
      "text/plain": [
       "<Figure size 432x288 with 2 Axes>"
      ]
     },
     "metadata": {
      "needs_background": "light"
     },
     "output_type": "display_data"
    }
   ],
   "source": [
    "baseline('TEM-1')\n",
    "baseline('Kka2')"
   ]
  },
  {
   "cell_type": "code",
   "execution_count": null,
   "metadata": {},
   "outputs": [],
   "source": []
  }
 ],
 "metadata": {
  "kernelspec": {
   "display_name": "Environment (conda_tensorflow2_p36)",
   "language": "python",
   "name": "conda_tensorflow2_p36"
  },
  "language_info": {
   "codemirror_mode": {
    "name": "ipython",
    "version": 3
   },
   "file_extension": ".py",
   "mimetype": "text/x-python",
   "name": "python",
   "nbconvert_exporter": "python",
   "pygments_lexer": "ipython3",
   "version": "3.6.10"
  }
 },
 "nbformat": 4,
 "nbformat_minor": 4
}