{
 "cells": [
  {
   "cell_type": "markdown",
   "metadata": {},
   "source": [
    "# Baseline Models\n",
    "\n",
    "We will develop the baseline neural network model (one hidden layer, 3-node softmax output) for comparisons for later architectures."
   ]
  },
  {
   "cell_type": "code",
   "execution_count": 1,
   "metadata": {},
   "outputs": [
    {
     "name": "stderr",
     "output_type": "stream",
     "text": [
      "Using TensorFlow backend.\n"
     ]
    }
   ],
   "source": [
    "# Imports\n",
    "import pandas as pd\n",
    "import matplotlib.pyplot as plt\n",
    "import seaborn as sns\n",
    "import numpy as np\n",
    "from keras import optimizers\n",
    "from keras.models import Sequential\n",
    "from keras.layers import Dense\n",
    "from keras.wrappers.scikit_learn import KerasClassifier\n",
    "from keras.utils import np_utils\n",
    "from sklearn.model_selection import cross_val_score\n",
    "from sklearn.model_selection import KFold\n",
    "from sklearn.preprocessing import LabelEncoder\n",
    "from sklearn.preprocessing import scale\n",
    "from sklearn.preprocessing import StandardScaler\n",
    "from sklearn.metrics import precision_score\n",
    "from sklearn.metrics import confusion_matrix\n",
    "from sklearn.pipeline import Pipeline"
   ]
  },
  {
   "cell_type": "code",
   "execution_count": 2,
   "metadata": {},
   "outputs": [],
   "source": [
    "# Reading in Data\n",
    "data_path = 'data/upsampled_data.csv'\n",
    "data_final = pd.read_csv(data_path)\n",
    "data_final = data_final.drop(['Unnamed: 0', 'Unnamed: 0.1'], axis=1)"
   ]
  },
  {
   "cell_type": "code",
   "execution_count": 3,
   "metadata": {},
   "outputs": [
    {
     "data": {
      "text/plain": [
       "(68955, 111)"
      ]
     },
     "execution_count": 3,
     "metadata": {},
     "output_type": "execute_result"
    }
   ],
   "source": [
    "data_final.shape"
   ]
  },
  {
   "cell_type": "code",
   "execution_count": 4,
   "metadata": {},
   "outputs": [],
   "source": [
    "# LOPO Splitting\n",
    "def train_test_split(protein, curr_data):\n",
    "    train_data = curr_data[curr_data.protein != protein].drop(['protein', 'pdb', 'resnum'], axis=1)\n",
    "    test_data = curr_data[curr_data.protein == protein].drop(['protein', 'pdb', 'resnum'], axis=1)\n",
    "    \n",
    "    y_train = train_data.type\n",
    "    encoder = LabelEncoder()\n",
    "    encoder.fit(y_train)\n",
    "    encoded_y_train = encoder.transform(y_train)\n",
    "    y_train_oh = np_utils.to_categorical(encoded_y_train)\n",
    "    \n",
    "    scaler_train = StandardScaler()\n",
    "    x_train = train_data.drop(['type'], axis=1)\n",
    "    x_columns = x_train.columns\n",
    "    x_train = scaler_train.fit_transform(x_train)\n",
    "    x_train = pd.DataFrame(x_train, columns=x_columns)\n",
    "    \n",
    "    y_test = test_data.type\n",
    "    encoder = LabelEncoder()\n",
    "    encoder.fit(y_test)\n",
    "    encoded_y_test = encoder.transform(y_test)\n",
    "    y_test_oh = np_utils.to_categorical(encoded_y_test)\n",
    "    \n",
    "    scaler_test = StandardScaler()\n",
    "    x_test = test_data.drop(['type'], axis=1)\n",
    "    x_test = scaler_test.fit_transform(x_test)\n",
    "    x_test = pd.DataFrame(x_test, columns=x_columns)\n",
    "\n",
    "    return x_train, y_train_oh, x_test, y_test_oh"
   ]
  },
  {
   "cell_type": "code",
   "execution_count": 8,
   "metadata": {},
   "outputs": [],
   "source": [
    "# Baseline Model\n",
    "def baseline_model():\n",
    "    model = Sequential()\n",
    "    model.add(Dense(256, input_dim = 107, activation = 'relu'))\n",
    "    model.add(Dense(3, activation='softmax'))\n",
    "    opt = optimizers.Adam(learning_rate = 0.01)\n",
    "    model.compile(loss='categorical_crossentropy', optimizer=opt, metrics=['accuracy'])\n",
    "    return(model)"
   ]
  },
  {
   "cell_type": "code",
   "execution_count": 9,
   "metadata": {},
   "outputs": [],
   "source": [
    "# Baseline Analysis\n",
    "def baseline(protein):\n",
    "    # Split Training Data based on Protein\n",
    "    x_train, y_train, x_test, y_test = train_test_split(protein, data_final)\n",
    "    \n",
    "    # Build Model\n",
    "    # 40 epochs based on initial runs and graphing of loss over time.\n",
    "    estimator = KerasClassifier(build_fn=baseline_model, epochs=20, batch_size=64, verbose=1)\n",
    "    estimator.fit(x_train, y_train, verbose=1)\n",
    "    \n",
    "    # Generate Analysis Characteristics\n",
    "    probs = estimator.predict_proba(x_test)\n",
    "    predictions = estimator.predict(x_test)\n",
    "    precision = precision_score(np.argmax(y_test,1), predictions, average=\"macro\", zero_division=0)\n",
    "    score = estimator.score(x_test, y_test)\n",
    "\n",
    "    print('Accuracy: {}'.format(score))\n",
    "    print('Precision: {}'.format(precision))\n",
    "    \n",
    "    # Plotting Confusion Matrices\n",
    "    cmatrix = confusion_matrix(np.argmax(y_test,1), predictions)\n",
    "    fig, ax = plt.subplots()\n",
    "    sns.heatmap(cmatrix, xticklabels = ['Beneficial', 'Deleterious', 'Neutral'], yticklabels = ['Beneficial', 'Deleterious', 'Neutral'])\n",
    "    ax.set_title('{}'.format(protein))\n",
    "    plt.savefig('img/baseline-upsampled-cmatrix/' + protein + '-baseline-upsampled-cmatrix.png', dpi=300)"
   ]
  },
  {
   "cell_type": "code",
   "execution_count": 11,
   "metadata": {
    "scrolled": false
   },
   "outputs": [
    {
     "name": "stdout",
     "output_type": "stream",
     "text": [
      "Epoch 1/20\n",
      "39750/39750 [==============================] - 2s 48us/step - loss: 0.9279 - accuracy: 0.5568\n",
      "Epoch 2/20\n",
      "39750/39750 [==============================] - 2s 44us/step - loss: 0.8669 - accuracy: 0.5924\n",
      "Epoch 3/20\n",
      "39750/39750 [==============================] - 2s 46us/step - loss: 0.8376 - accuracy: 0.6112\n",
      "Epoch 4/20\n",
      "39750/39750 [==============================] - 2s 48us/step - loss: 0.8142 - accuracy: 0.6261\n",
      "Epoch 5/20\n",
      "39750/39750 [==============================] - 2s 45us/step - loss: 0.7988 - accuracy: 0.6399\n",
      "Epoch 6/20\n",
      "39750/39750 [==============================] - 2s 45us/step - loss: 0.7804 - accuracy: 0.6463\n",
      "Epoch 7/20\n",
      "39750/39750 [==============================] - 2s 44us/step - loss: 0.7686 - accuracy: 0.6523\n",
      "Epoch 8/20\n",
      "39750/39750 [==============================] - 2s 45us/step - loss: 0.7525 - accuracy: 0.6630\n",
      "Epoch 9/20\n",
      "39750/39750 [==============================] - 2s 45us/step - loss: 0.7429 - accuracy: 0.6713\n",
      "Epoch 10/20\n",
      "39750/39750 [==============================] - 2s 45us/step - loss: 0.7312 - accuracy: 0.6764\n",
      "Epoch 11/20\n",
      "39750/39750 [==============================] - 2s 47us/step - loss: 0.7194 - accuracy: 0.6841\n",
      "Epoch 12/20\n",
      "39750/39750 [==============================] - 2s 44us/step - loss: 0.7140 - accuracy: 0.6877\n",
      "Epoch 13/20\n",
      "39750/39750 [==============================] - 2s 48us/step - loss: 0.7068 - accuracy: 0.6930\n",
      "Epoch 14/20\n",
      "39750/39750 [==============================] - 2s 45us/step - loss: 0.6949 - accuracy: 0.6979\n",
      "Epoch 15/20\n",
      "39750/39750 [==============================] - 2s 44us/step - loss: 0.6837 - accuracy: 0.7062\n",
      "Epoch 16/20\n",
      "39750/39750 [==============================] - 2s 45us/step - loss: 0.6816 - accuracy: 0.7062\n",
      "Epoch 17/20\n",
      "39750/39750 [==============================] - 2s 44us/step - loss: 0.6732 - accuracy: 0.7115\n",
      "Epoch 18/20\n",
      "39750/39750 [==============================] - 2s 52us/step - loss: 0.6662 - accuracy: 0.7144\n",
      "Epoch 19/20\n",
      "39750/39750 [==============================] - 2s 46us/step - loss: 0.6594 - accuracy: 0.7181\n",
      "Epoch 20/20\n",
      "39750/39750 [==============================] - 2s 44us/step - loss: 0.6529 - accuracy: 0.7206\n",
      "29205/29205 [==============================] - 0s 11us/step\n",
      "29205/29205 [==============================] - 0s 11us/step\n",
      "29205/29205 [==============================] - 1s 27us/step\n",
      "Accuracy: 0.39486390352249146\n",
      "Precision: 0.3822816425035422\n",
      "Epoch 1/20\n",
      "32595/32595 [==============================] - 2s 50us/step - loss: 0.9045 - accuracy: 0.5878\n",
      "Epoch 2/20\n",
      "32595/32595 [==============================] - 2s 48us/step - loss: 0.8018 - accuracy: 0.6442\n",
      "Epoch 3/20\n",
      "32595/32595 [==============================] - 1s 44us/step - loss: 0.7586 - accuracy: 0.6642\n",
      "Epoch 4/20\n",
      "32595/32595 [==============================] - 1s 44us/step - loss: 0.7330 - accuracy: 0.6790\n",
      "Epoch 5/20\n",
      "32595/32595 [==============================] - 1s 44us/step - loss: 0.7073 - accuracy: 0.6919\n",
      "Epoch 6/20\n",
      "32595/32595 [==============================] - 1s 45us/step - loss: 0.6885 - accuracy: 0.7003\n",
      "Epoch 7/20\n",
      "32595/32595 [==============================] - 1s 45us/step - loss: 0.6672 - accuracy: 0.7099\n",
      "Epoch 8/20\n",
      "32595/32595 [==============================] - 2s 46us/step - loss: 0.6600 - accuracy: 0.7128\n",
      "Epoch 9/20\n",
      "32595/32595 [==============================] - 1s 45us/step - loss: 0.6429 - accuracy: 0.7220\n",
      "Epoch 10/20\n",
      "32595/32595 [==============================] - 1s 45us/step - loss: 0.6340 - accuracy: 0.7268\n",
      "Epoch 11/20\n",
      "32595/32595 [==============================] - 1s 45us/step - loss: 0.6216 - accuracy: 0.7289\n",
      "Epoch 12/20\n",
      "32595/32595 [==============================] - 1s 45us/step - loss: 0.6107 - accuracy: 0.7358\n",
      "Epoch 13/20\n",
      "32595/32595 [==============================] - 1s 45us/step - loss: 0.6007 - accuracy: 0.7431\n",
      "Epoch 14/20\n",
      "32595/32595 [==============================] - 2s 48us/step - loss: 0.5883 - accuracy: 0.7467\n",
      "Epoch 15/20\n",
      "32595/32595 [==============================] - 2s 47us/step - loss: 0.5868 - accuracy: 0.7489\n",
      "Epoch 16/20\n",
      "32595/32595 [==============================] - 2s 50us/step - loss: 0.5771 - accuracy: 0.7551\n",
      "Epoch 17/20\n",
      "32595/32595 [==============================] - 1s 44us/step - loss: 0.5727 - accuracy: 0.7567\n",
      "Epoch 18/20\n",
      "32595/32595 [==============================] - 1s 44us/step - loss: 0.5704 - accuracy: 0.7587\n",
      "Epoch 19/20\n",
      "32595/32595 [==============================] - 1s 45us/step - loss: 0.5566 - accuracy: 0.7628\n",
      "Epoch 20/20\n",
      "32595/32595 [==============================] - 2s 48us/step - loss: 0.5486 - accuracy: 0.7662\n",
      "36360/36360 [==============================] - 0s 11us/step\n",
      "36360/36360 [==============================] - 0s 10us/step\n",
      "36360/36360 [==============================] - 1s 27us/step\n",
      "Accuracy: 0.4197194576263428\n",
      "Precision: 0.42118652519287064\n"
     ]
    },
    {
     "data": {
      "image/png": "[encoded data removed]",
      "text/plain": [
       "<Figure size 432x288 with 2 Axes>"
      ]
     },
     "metadata": {
      "needs_background": "light"
     },
     "output_type": "display_data"
    },
    {
     "data": {
      "image/png": "[encoded data removed]",
      "text/plain": [
       "<Figure size 432x288 with 2 Axes>"
      ]
     },
     "metadata": {
      "needs_background": "light"
     },
     "output_type": "display_data"
    }
   ],
   "source": [
    "baseline('TEM-1')\n",
    "baseline('Kka2')"
   ]
  },
  {
   "cell_type": "code",
   "execution_count": null,
   "metadata": {},
   "outputs": [],
   "source": []
  }
 ],
 "metadata": {
  "kernelspec": {
   "display_name": "Environment (conda_tensorflow2_p36)",
   "language": "python",
   "name": "conda_tensorflow2_p36"
  },
  "language_info": {
   "codemirror_mode": {
    "name": "ipython",
    "version": 3
   },
   "file_extension": ".py",
   "mimetype": "text/x-python",
   "name": "python",
   "nbconvert_exporter": "python",
   "pygments_lexer": "ipython3",
   "version": "3.6.10"
  }
 },
 "nbformat": 4,
 "nbformat_minor": 4
}
