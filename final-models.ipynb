{
 "cells": [
  {
   "cell_type": "markdown",
   "metadata": {},
   "source": [
    "# Final Models\n",
    "\n",
    "This notebook is responsible for training and evaluating the final LOPO models."
   ]
  },
  {
   "cell_type": "code",
   "execution_count": 25,
   "metadata": {},
   "outputs": [],
   "source": [
    "import pandas as pd\n",
    "import matplotlib.pyplot as plt\n",
    "import seaborn as sns\n",
    "import tensorflow as tf\n",
    "from tensorflow.keras import optimizers, Input\n",
    "from tensorflow.keras.models import Sequential\n",
    "from tensorflow.keras.layers import Dense\n",
    "from tensorflow.keras.layers import Dropout\n",
    "from tensorflow.keras import regularizers\n",
    "from tensorflow.keras.callbacks import EarlyStopping\n",
    "from sklearn.metrics import precision_score\n",
    "from sklearn.metrics import confusion_matrix\n",
    "from tensorflow.keras.utils import to_categorical\n",
    "from sklearn.preprocessing import LabelEncoder\n",
    "from keras.utils import np_utils\n",
    "from sklearn.preprocessing import StandardScaler\n",
    "import numpy as np"
   ]
  },
  {
   "cell_type": "code",
   "execution_count": 26,
   "metadata": {},
   "outputs": [],
   "source": [
    "# def label_type(row):\n",
    "#     \"\"\" Converts continuous label to categorical label\n",
    "#     \"\"\"\n",
    "#     if row['scaled_effect'] < 0.8:\n",
    "#         return('Deleterious')\n",
    "#     elif row['scaled_effect'] > 1.05:\n",
    "#         return('Beneficial')\n",
    "#     else:\n",
    "#         return('Neutral')\n",
    "    \n",
    "def lopo_train_test_split(protein, curr_data):\n",
    "    \"\"\" Splits data into train/test splits by leaving one protein out of training data\n",
    "    \"\"\"\n",
    "    train_data = curr_data[curr_data.protein != protein].drop(['protein', 'pdb', 'resnum'], axis=1)\n",
    "    test_data = curr_data[curr_data.protein == protein].drop(['protein', 'pdb', 'resnum'], axis=1)\n",
    "    \n",
    "    y_train = train_data.type\n",
    "    encoder = LabelEncoder()\n",
    "    encoder.fit(y_train)\n",
    "    encoded_y_train = encoder.transform(y_train)\n",
    "    y_train_oh = np_utils.to_categorical(encoded_y_train)\n",
    "    \n",
    "    scaler_train = StandardScaler()\n",
    "    x_train = train_data.drop(['type'], axis=1)\n",
    "    x_columns = x_train.columns\n",
    "    x_train = scaler_train.fit_transform(x_train)\n",
    "    x_train = pd.DataFrame(x_train, columns=x_columns)\n",
    "    \n",
    "    y_test = test_data.type\n",
    "    encoder = LabelEncoder()\n",
    "    encoder.fit(y_test)\n",
    "    encoded_y_test = encoder.transform(y_test)\n",
    "    y_test_oh = np_utils.to_categorical(encoded_y_test)\n",
    "    \n",
    "    scaler_test = StandardScaler()\n",
    "    x_test = test_data.drop(['type'], axis=1)\n",
    "    x_test = scaler_test.fit_transform(x_test)\n",
    "    x_test = pd.DataFrame(x_test, columns=x_columns)\n",
    "\n",
    "    return x_train, y_train_oh, x_test, y_test_oh\n",
    "\n",
    "def nn_model():\n",
    "    num_nodes = 80\n",
    "    num_layers = 4\n",
    "    model = Sequential()\n",
    "    inputs = Input(shape=(107,))\n",
    "#     x = Dense(num_nodes, activation=tf.nn.relu, kernel_initializer='random_normal',kernel_regularizer='l2')(inputs)\n",
    "    x = Dense(num_nodes, activation=tf.nn.relu,kernel_regularizer='l2')(inputs)\n",
    "    x = Dropout(0.2)(x)\n",
    "    for i in range(num_layers):\n",
    "#         x = Dense(num_nodes, activation=tf.nn.relu, kernel_initializer='random_normal',kernel_regularizer='l2')(x)\n",
    "        x = Dense(num_nodes, activation=tf.nn.relu, kernel_regularizer='l2')(x)\n",
    "        x = Dropout(0.2)(x)\n",
    "    outputs = Dense(3, activation=tf.nn.softmax)(x)\n",
    "    opt = optimizers.Adam(learning_rate = 0.001)\n",
    "    model = tf.keras.Model(inputs=inputs, outputs=outputs)\n",
    "    model.compile(loss='categorical_crossentropy',\n",
    "                  optimizer=opt,\n",
    "                  metrics=[tf.keras.metrics.CategoricalAccuracy(),\n",
    "                           tf.keras.metrics.Precision(),\n",
    "                           tf.keras.metrics.Recall()])\n",
    "    return(model)"
   ]
  },
  {
   "cell_type": "code",
   "execution_count": 27,
   "metadata": {},
   "outputs": [],
   "source": [
    "# Read in Data\n",
    "data_path = 'data/upsampled_data.csv'\n",
    "data = pd.read_csv(data_path)\n",
    "data = data.drop(['Unnamed: 0', 'Unnamed: 0.1'], axis=1)"
   ]
  },
  {
   "cell_type": "code",
   "execution_count": 28,
   "metadata": {
    "scrolled": false
   },
   "outputs": [
    {
     "name": "stdout",
     "output_type": "stream",
     "text": [
      "Current Protein: TEM-1\n",
      "Train on 39750 samples, validate on 29205 samples\n",
      "Epoch 1/100\n",
      "39750/39750 [==============================] - 6s 158us/sample - loss: 1.5909 - categorical_accuracy: 0.5188 - precision_14: 0.6327 - recall_14: 0.2622 - val_loss: 1.1580 - val_categorical_accuracy: 0.4403 - val_precision_14: 0.4856 - val_recall_14: 0.3162\n",
      "Epoch 2/100\n",
      "39750/39750 [==============================] - 5s 122us/sample - loss: 0.9855 - categorical_accuracy: 0.5549 - precision_14: 0.6385 - recall_14: 0.3478 - val_loss: 1.1497 - val_categorical_accuracy: 0.4491 - val_precision_14: 0.5110 - val_recall_14: 0.2738\n",
      "Epoch 3/100\n",
      "39750/39750 [==============================] - 5s 122us/sample - loss: 0.9737 - categorical_accuracy: 0.5586 - precision_14: 0.6412 - recall_14: 0.3583 - val_loss: 1.1270 - val_categorical_accuracy: 0.4284 - val_precision_14: 0.4894 - val_recall_14: 0.2625\n",
      "Epoch 4/100\n",
      "39750/39750 [==============================] - 5s 123us/sample - loss: 0.9692 - categorical_accuracy: 0.5607 - precision_14: 0.6388 - recall_14: 0.3689 - val_loss: 1.1376 - val_categorical_accuracy: 0.4197 - val_precision_14: 0.4928 - val_recall_14: 0.2451\n",
      "Epoch 5/100\n",
      "39750/39750 [==============================] - 5s 123us/sample - loss: 0.9650 - categorical_accuracy: 0.5649 - precision_14: 0.6454 - recall_14: 0.3674 - val_loss: 1.1616 - val_categorical_accuracy: 0.4383 - val_precision_14: 0.4851 - val_recall_14: 0.2886\n",
      "Epoch 6/100\n",
      "39750/39750 [==============================] - 5s 126us/sample - loss: 0.9656 - categorical_accuracy: 0.5633 - precision_14: 0.6431 - recall_14: 0.3667 - val_loss: 1.1739 - val_categorical_accuracy: 0.4353 - val_precision_14: 0.4898 - val_recall_14: 0.3078\n",
      "29205/29205 [==============================] - 3s 114us/sample - loss: 1.1739 - categorical_accuracy: 0.4353 - precision_14: 0.4898 - recall_14: 0.3078\n",
      "1.173854560640613 0.4353364 0.489757 0.30778977\n"
     ]
    },
    {
     "data": {
      "image/png": "[encoded data removed]",
      "text/plain": [
       "<Figure size 432x288 with 2 Axes>"
      ]
     },
     "metadata": {
      "needs_background": "light"
     },
     "output_type": "display_data"
    }
   ],
   "source": [
    "# Protein\n",
    "protein = 'TEM-1'\n",
    "\n",
    "# Model Callbacks\n",
    "my_callbacks = [EarlyStopping(patience=3)]\n",
    "\n",
    "# Split Data\n",
    "x_train, y_train, x_test, y_test = lopo_train_test_split(protein, data)\n",
    "\n",
    "# Monitoring Statement\n",
    "print(\"Current Protein: \" + protein)\n",
    "\n",
    "# Buil Model\n",
    "curr_model = nn_model()\n",
    "curr_model.fit(x_train, y_train, epochs = 100, batch_size = 64, callbacks = my_callbacks, verbose=1, validation_data=(x_test, y_test))\n",
    "loss, acc, prec, rec = curr_model.evaluate(x_test, y_test)\n",
    "print(loss, acc, prec, rec)\n",
    "predictions = curr_model.predict(x_test)\n",
    "y_true = tf.argmax(y_test, 1)\n",
    "y_pred = tf.argmax(predictions, 1)\n",
    "\n",
    "cmatrix = confusion_matrix(y_true, y_pred)\n",
    "fig, ax = plt.subplots()\n",
    "sns.heatmap(cmatrix, xticklabels = ['Beneficial', 'Deleterious', 'Neutral'], yticklabels = ['Beneficial', 'Deleterious', 'Neutral'])\n",
    "ax.set_title('{}'.format(protein))\n",
    "plt.savefig('img/finalmodels-cmatrix/' + protein + '-finalmodels-cmatrix.png', dpi=300)"
   ]
  }
 ],
 "metadata": {
  "kernelspec": {
   "display_name": "Environment (conda_tensorflow2_p36)",
   "language": "python",
   "name": "conda_tensorflow2_p36"
  },
  "language_info": {
   "codemirror_mode": {
    "name": "ipython",
    "version": 3
   },
   "file_extension": ".py",
   "mimetype": "text/x-python",
   "name": "python",
   "nbconvert_exporter": "python",
   "pygments_lexer": "ipython3",
   "version": "3.6.10"
  }
 },
 "nbformat": 4,
 "nbformat_minor": 4
}
