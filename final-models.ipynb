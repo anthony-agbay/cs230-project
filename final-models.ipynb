{
 "cells": [
  {
   "cell_type": "markdown",
   "metadata": {},
   "source": [
    "# Final Models\n",
    "\n",
    "This notebook is responsible for training and evaluating the final LOPO models."
   ]
  },
  {
   "cell_type": "code",
   "execution_count": 25,
   "metadata": {},
   "outputs": [],
   "source": [
    "import pandas as pd\n",
    "import matplotlib.pyplot as plt\n",
    "import seaborn as sns\n",
    "import tensorflow as tf\n",
    "from tensorflow.keras import optimizers, Input\n",
    "from tensorflow.keras.models import Sequential\n",
    "from tensorflow.keras.layers import Dense\n",
    "from tensorflow.keras.layers import Dropout\n",
    "from tensorflow.keras import regularizers\n",
    "from tensorflow.keras.callbacks import EarlyStopping\n",
    "from sklearn.metrics import precision_score\n",
    "from sklearn.metrics import confusion_matrix\n",
    "from tensorflow.keras.utils import to_categorical\n",
    "from sklearn.preprocessing import LabelEncoder\n",
    "from keras.utils import np_utils\n",
    "from sklearn.preprocessing import StandardScaler\n",
    "import numpy as np"
   ]
  },
  {
   "cell_type": "code",
   "execution_count": 29,
   "metadata": {},
   "outputs": [],
   "source": [
    "# def label_type(row):\n",
    "#     \"\"\" Converts continuous label to categorical label\n",
    "#     \"\"\"\n",
    "#     if row['scaled_effect'] < 0.8:\n",
    "#         return('Deleterious')\n",
    "#     elif row['scaled_effect'] > 1.05:\n",
    "#         return('Beneficial')\n",
    "#     else:\n",
    "#         return('Neutral')\n",
    "    \n",
    "def lopo_train_test_split(protein, curr_data):\n",
    "    \"\"\" Splits data into train/test splits by leaving one protein out of training data\n",
    "    \"\"\"\n",
    "    train_data = curr_data[curr_data.protein != protein].drop(['protein', 'pdb', 'resnum'], axis=1)\n",
    "    test_data = curr_data[curr_data.protein == protein].drop(['protein', 'pdb', 'resnum'], axis=1)\n",
    "    \n",
    "    y_train = train_data.type\n",
    "    encoder = LabelEncoder()\n",
    "    encoder.fit(y_train)\n",
    "    encoded_y_train = encoder.transform(y_train)\n",
    "    y_train_oh = np_utils.to_categorical(encoded_y_train)\n",
    "    \n",
    "    scaler_train = StandardScaler()\n",
    "    x_train = train_data.drop(['type'], axis=1)\n",
    "    x_columns = x_train.columns\n",
    "    x_train = scaler_train.fit_transform(x_train)\n",
    "    x_train = pd.DataFrame(x_train, columns=x_columns)\n",
    "    \n",
    "    y_test = test_data.type\n",
    "    encoder = LabelEncoder()\n",
    "    encoder.fit(y_test)\n",
    "    encoded_y_test = encoder.transform(y_test)\n",
    "    y_test_oh = np_utils.to_categorical(encoded_y_test)\n",
    "    \n",
    "    scaler_test = StandardScaler()\n",
    "    x_test = test_data.drop(['type'], axis=1)\n",
    "    x_test = scaler_test.fit_transform(x_test)\n",
    "    x_test = pd.DataFrame(x_test, columns=x_columns)\n",
    "\n",
    "    return x_train, y_train_oh, x_test, y_test_oh\n",
    "\n",
    "def nn_model():\n",
    "    num_nodes = 60\n",
    "    num_layers = 6\n",
    "    model = Sequential()\n",
    "    inputs = Input(shape=(107,))\n",
    "#     x = Dense(num_nodes, activation=tf.nn.relu, kernel_initializer='random_normal',kernel_regularizer='l2')(inputs)\n",
    "    x = Dense(num_nodes, activation=tf.nn.relu,kernel_regularizer='l2')(inputs)\n",
    "    x = Dropout(0.2)(x)\n",
    "    for i in range(num_layers):\n",
    "#         x = Dense(num_nodes, activation=tf.nn.relu, kernel_initializer='random_normal',kernel_regularizer='l2')(x)\n",
    "        x = Dense(num_nodes, activation=tf.nn.relu, kernel_regularizer='l2')(x)\n",
    "        x = Dropout(0.2)(x)\n",
    "    outputs = Dense(3, activation=tf.nn.softmax)(x)\n",
    "    opt = optimizers.Adam(learning_rate = 0.001)\n",
    "    model = tf.keras.Model(inputs=inputs, outputs=outputs)\n",
    "    model.compile(loss='categorical_crossentropy',\n",
    "                  optimizer=opt,\n",
    "                  metrics=[tf.keras.metrics.CategoricalAccuracy(),\n",
    "                           tf.keras.metrics.Precision(),\n",
    "                           tf.keras.metrics.Recall()])\n",
    "    return(model)"
   ]
  },
  {
   "cell_type": "code",
   "execution_count": 30,
   "metadata": {},
   "outputs": [],
   "source": [
    "# Read in Data\n",
    "data_path = 'data/upsampled_data.csv'\n",
    "data = pd.read_csv(data_path)\n",
    "data = data.drop(['Unnamed: 0', 'Unnamed: 0.1'], axis=1)"
   ]
  },
  {
   "cell_type": "code",
   "execution_count": 31,
   "metadata": {
    "scrolled": false
   },
   "outputs": [
    {
     "name": "stdout",
     "output_type": "stream",
     "text": [
      "Current Protein: TEM-1\n",
      "Train on 39750 samples, validate on 29205 samples\n",
      "Epoch 1/100\n",
      "39750/39750 [==============================] - 7s 184us/sample - loss: 1.5991 - categorical_accuracy: 0.5033 - precision_15: 0.6325 - recall_15: 0.2072 - val_loss: 1.1540 - val_categorical_accuracy: 0.4356 - val_precision_15: 0.4910 - val_recall_15: 0.2619\n",
      "Epoch 2/100\n",
      "39750/39750 [==============================] - 5s 134us/sample - loss: 1.0069 - categorical_accuracy: 0.5478 - precision_15: 0.6333 - recall_15: 0.3334 - val_loss: 1.2188 - val_categorical_accuracy: 0.4406 - val_precision_15: 0.4861 - val_recall_15: 0.3107\n",
      "Epoch 3/100\n",
      "39750/39750 [==============================] - 5s 134us/sample - loss: 0.9973 - categorical_accuracy: 0.5512 - precision_15: 0.6400 - recall_15: 0.3463 - val_loss: 1.1818 - val_categorical_accuracy: 0.4419 - val_precision_15: 0.4939 - val_recall_15: 0.2883\n",
      "Epoch 4/100\n",
      "39750/39750 [==============================] - 5s 134us/sample - loss: 0.9927 - categorical_accuracy: 0.5542 - precision_15: 0.6414 - recall_15: 0.3617 - val_loss: 1.1449 - val_categorical_accuracy: 0.4330 - val_precision_15: 0.4954 - val_recall_15: 0.2590\n",
      "Epoch 5/100\n",
      "39750/39750 [==============================] - 5s 134us/sample - loss: 0.9891 - categorical_accuracy: 0.5563 - precision_15: 0.6409 - recall_15: 0.3615 - val_loss: 1.1355 - val_categorical_accuracy: 0.4356 - val_precision_15: 0.4886 - val_recall_15: 0.2634\n",
      "Epoch 6/100\n",
      "39750/39750 [==============================] - 5s 135us/sample - loss: 0.9870 - categorical_accuracy: 0.5595 - precision_15: 0.6438 - recall_15: 0.3666 - val_loss: 1.1614 - val_categorical_accuracy: 0.4404 - val_precision_15: 0.5230 - val_recall_15: 0.2464\n",
      "Epoch 7/100\n",
      "39750/39750 [==============================] - 5s 135us/sample - loss: 0.9829 - categorical_accuracy: 0.5589 - precision_15: 0.6425 - recall_15: 0.3635 - val_loss: 1.1589 - val_categorical_accuracy: 0.4345 - val_precision_15: 0.4821 - val_recall_15: 0.2559\n",
      "Epoch 8/100\n",
      "39750/39750 [==============================] - 6s 138us/sample - loss: 0.9828 - categorical_accuracy: 0.5633 - precision_15: 0.6478 - recall_15: 0.3707 - val_loss: 1.2060 - val_categorical_accuracy: 0.4391 - val_precision_15: 0.4907 - val_recall_15: 0.3103\n",
      "29205/29205 [==============================] - 3s 120us/sample - loss: 1.2060 - categorical_accuracy: 0.4391 - precision_15: 0.4907 - recall_15: 0.3103\n",
      "1.2059553280082431 0.43913713 0.49066 0.31028932\n"
     ]
    },
    {
     "data": {
      "image/png": "[encoded data removed]",
      "text/plain": [
       "<Figure size 432x288 with 2 Axes>"
      ]
     },
     "metadata": {
      "needs_background": "light"
     },
     "output_type": "display_data"
    }
   ],
   "source": [
    "# Protein\n",
    "protein = 'TEM-1'\n",
    "\n",
    "# Model Callbacks\n",
    "my_callbacks = [EarlyStopping(patience=3)]\n",
    "\n",
    "# Split Data\n",
    "x_train, y_train, x_test, y_test = lopo_train_test_split(protein, data)\n",
    "\n",
    "# Monitoring Statement\n",
    "print(\"Current Protein: \" + protein)\n",
    "\n",
    "# Buil Model\n",
    "curr_model = nn_model()\n",
    "curr_model.fit(x_train, y_train, epochs = 100, batch_size = 64, callbacks = my_callbacks, verbose=1, validation_data=(x_test, y_test))\n",
    "loss, acc, prec, rec = curr_model.evaluate(x_test, y_test)\n",
    "print(loss, acc, prec, rec)\n",
    "predictions = curr_model.predict(x_test)\n",
    "y_true = tf.argmax(y_test, 1)\n",
    "y_pred = tf.argmax(predictions, 1)\n",
    "\n",
    "cmatrix = confusion_matrix(y_true, y_pred)\n",
    "fig, ax = plt.subplots()\n",
    "sns.heatmap(cmatrix, xticklabels = ['Beneficial', 'Deleterious', 'Neutral'], yticklabels = ['Beneficial', 'Deleterious', 'Neutral'])\n",
    "ax.set_title('{}'.format(protein))\n",
    "plt.savefig('img/finalmodels-cmatrix/' + protein + '-finalmodels-cmatrix.png', dpi=300)"
   ]
  },
  {
   "cell_type": "code",
   "execution_count": null,
   "metadata": {},
   "outputs": [],
   "source": []
  }
 ],
 "metadata": {
  "kernelspec": {
   "display_name": "Environment (conda_tensorflow2_p36)",
   "language": "python",
   "name": "conda_tensorflow2_p36"
  },
  "language_info": {
   "codemirror_mode": {
    "name": "ipython",
    "version": 3
   },
   "file_extension": ".py",
   "mimetype": "text/x-python",
   "name": "python",
   "nbconvert_exporter": "python",
   "pygments_lexer": "ipython3",
   "version": "3.6.10"
  }
 },
 "nbformat": 4,
 "nbformat_minor": 4
}
