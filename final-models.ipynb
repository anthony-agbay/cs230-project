{
 "cells": [
  {
   "cell_type": "markdown",
   "metadata": {},
   "source": [
    "# Final Models\n",
    "\n",
    "This notebook is responsible for training and evaluating the final LOPO models."
   ]
  },
  {
   "cell_type": "code",
   "execution_count": null,
   "metadata": {},
   "outputs": [],
   "source": [
    "import pandas as pd\n",
    "import matplotlib.pyplot as plt\n",
    "import seaborn as sns\n",
    "import tensorflow as tf\n",
    "from tensorflow.keras import optimizers, Input\n",
    "from tensorflow.keras.models import Sequential\n",
    "from tensorflow.keras.layers import Dense\n",
    "from sklearn.metrics import precision_score\n",
    "from sklearn.metrics import confusion_matrix\n",
    "from tensorflow.keras.utils import to_categorical\n",
    "from sklearn.preprocessing import LabelEncoder\n",
    "import numpy as np"
   ]
  },
  {
   "cell_type": "code",
   "execution_count": 1,
   "metadata": {},
   "outputs": [],
   "source": [
    "def label_type(row):\n",
    "    \"\"\" Converts continuous label to categorical label\n",
    "    \"\"\"\n",
    "    if row['scaled_effect'] < 0.95:\n",
    "        return('Deleterious')\n",
    "    elif row['scaled_effect'] > 1.05:\n",
    "        return('Beneficial')\n",
    "    else:\n",
    "        return('Neutral')\n",
    "    \n",
    "def lopo_train_test_split(protein, curr_data):\n",
    "    \"\"\" Splits data into train/test splits by leaving one protein out of training data\n",
    "    \"\"\"\n",
    "    train_data = curr_data[curr_data.protein != protein].drop(['protein', 'pdb', 'resnum'], axis=1)\n",
    "    test_data = curr_data[curr_data.protein == protein].drop(['protein', 'pdb', 'resnum'], axis=1)\n",
    "    \n",
    "    # Set up Training Data\n",
    "    ## Need to one-hot encode labels\n",
    "    y_train = train_data.type\n",
    "    encoder_train = LabelEncoder()\n",
    "    encoder_train.fit(y_train)\n",
    "    y_train = to_categorical(encoder_train.transform(y_train))\n",
    "    \n",
    "    x_train = scale(train_data.drop(['type'], axis=1))\n",
    "    \n",
    "    # Set up Tresting Data\n",
    "    ## Need to one-hot encode labels\n",
    "    y_test = test_data.type\n",
    "    encoder_test = LabelEncoder()\n",
    "    encoder_test.fit(y_test)\n",
    "    y_test = to_categorical(encoder_test.transform(y_test))\n",
    "    \n",
    "    x_test = scale(test_data.drop(['type'], axis=1))\n",
    "\n",
    "    return x_train, y_train, x_test, y_test\n",
    "\n",
    "def nn_model():\n",
    "    model = Sequential()\n",
    "    inputs = Input(shape=(969,))\n",
    "    x = Dense(400, activation=tf.nn.relu)(inputs)\n",
    "    for layers in range(16):\n",
    "        x = Dense(400, activation=tf.nn.relu)(x)\n",
    "    outputs = Dense(3, activation=tf.nn.softmax)(x)\n",
    "    opt = optimizers.Adam(learning_rate = 0.1)\n",
    "    model = tf.keras.Model(inputs=inputs, outputs=outputs)\n",
    "    model.compile(loss='categorical_crossentropy',\n",
    "                  optimizer=opt,\n",
    "                  metrics=[tf.keras.metrics.CategoricalAccuracy(),\n",
    "                           tf.keras.metrics.Precision(),\n",
    "                           tf.keras.metrics.Recall()])\n",
    "    return(model)"
   ]
  },
  {
   "cell_type": "code",
   "execution_count": 2,
   "metadata": {},
   "outputs": [
    {
     "ename": "NameError",
     "evalue": "name 'pd' is not defined",
     "output_type": "error",
     "traceback": [
      "\u001b[0;31m---------------------------------------------------------------------------\u001b[0m",
      "\u001b[0;31mNameError\u001b[0m                                 Traceback (most recent call last)",
      "\u001b[0;32m<ipython-input-2-fe8f1ba70644>\u001b[0m in \u001b[0;36m<module>\u001b[0;34m\u001b[0m\n\u001b[1;32m      1\u001b[0m \u001b[0mdata_path\u001b[0m \u001b[0;34m=\u001b[0m \u001b[0;34m'data/merged.csv'\u001b[0m\u001b[0;34m\u001b[0m\u001b[0;34m\u001b[0m\u001b[0m\n\u001b[0;32m----> 2\u001b[0;31m \u001b[0mdata\u001b[0m \u001b[0;34m=\u001b[0m \u001b[0mpd\u001b[0m\u001b[0;34m.\u001b[0m\u001b[0mread_csv\u001b[0m\u001b[0;34m(\u001b[0m\u001b[0mdata_path\u001b[0m\u001b[0;34m)\u001b[0m\u001b[0;34m\u001b[0m\u001b[0;34m\u001b[0m\u001b[0m\n\u001b[0m",
      "\u001b[0;31mNameError\u001b[0m: name 'pd' is not defined"
     ]
    }
   ],
   "source": [
    "data_path = 'data/merged.csv'\n",
    "data = pd.read_csv(data_path)\n",
    "data['type'] = data.apply(lambda row: label_type(row), axis = 1)\n",
    "proteins = list(data.protein.unique())"
   ]
  },
  {
   "cell_type": "code",
   "execution_count": null,
   "metadata": {},
   "outputs": [],
   "source": [
    "for protein in proteins:\n",
    "    x_train, y_train, x_test, y_test = lopo_train_test_split(protein, data_final)\n",
    "    \n",
    "    # Monitoring Statement\n",
    "    print(\"Current Protein: \" + protein)\n",
    "    curr_model = nn_model()\n",
    "    curr_model.fit(x_train, y_train, epochs = 10, batch_size = 32, verbose=1)\n",
    "    loss, acc, prec, rec = curr_model.evaluate(x_test, y_test)\n",
    "    print(loss, acc, prec, rec)\n",
    "    predictions = curr_model.predict(x_test, y_test)\n",
    "    y_true = tf.argmax(y_test, 1)\n",
    "    y_pred = tf.argmax(predictions, 1)\n",
    "    \n",
    "    cmatrix = confusion_matrix(y_true, y_pred)\n",
    "    fig, ax = plt.subplots()\n",
    "    sns.heatmap(cmatrix, xticklabels = ['Beneficial', 'Deleterious', 'Neutral'], yticklabels = ['Beneficial', 'Deleterious', 'Neutral'])\n",
    "    ax.set_title('{}'.format(protein))\n",
    "    plt.savefig('img/finalmodels-cmatrix/' + protein + '-finalmodels-cmatrix.png', dpi=300)\n",
    "    \n",
    "    "
   ]
  }
 ],
 "metadata": {
  "kernelspec": {
   "display_name": "Environment (conda_tensorflow2_p36)",
   "language": "python",
   "name": "conda_tensorflow2_p36"
  },
  "language_info": {
   "codemirror_mode": {
    "name": "ipython",
    "version": 3
   },
   "file_extension": ".py",
   "mimetype": "text/x-python",
   "name": "python",
   "nbconvert_exporter": "python",
   "pygments_lexer": "ipython3",
   "version": "3.6.10"
  }
 },
 "nbformat": 4,
 "nbformat_minor": 4
}
