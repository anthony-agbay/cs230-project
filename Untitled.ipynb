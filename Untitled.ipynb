{
 "cells": [
  {
   "cell_type": "code",
   "execution_count": 2,
   "metadata": {},
   "outputs": [],
   "source": [
    "import pandas as pd"
   ]
  },
  {
   "cell_type": "code",
   "execution_count": 3,
   "metadata": {},
   "outputs": [],
   "source": [
    "data = pd.read_csv('data/mmc2.csv')"
   ]
  },
  {
   "cell_type": "code",
   "execution_count": 44,
   "metadata": {},
   "outputs": [
    {
     "data": {
      "text/plain": [
       "470      gb1\n",
       "471      gb1\n",
       "472      gb1\n",
       "473      gb1\n",
       "474      gb1\n",
       "        ... \n",
       "60590    gb1\n",
       "60591    gb1\n",
       "60592    gb1\n",
       "60593    gb1\n",
       "60594    gb1\n",
       "Name: protein, Length: 1100, dtype: object"
      ]
     },
     "execution_count": 44,
     "metadata": {},
     "output_type": "execute_result"
    }
   ],
   "source": [
    "data[data.uniprot == 'P06654'].protein"
   ]
  },
  {
   "cell_type": "code",
   "execution_count": 22,
   "metadata": {},
   "outputs": [
    {
     "data": {
      "text/plain": [
       "array(['P62593', 'P00552', 'P0CG48', 'P31016', 'P04147', 'P46937',\n",
       "       'P0CG63', 'P02829', 'P06654'], dtype=object)"
      ]
     },
     "execution_count": 22,
     "metadata": {},
     "output_type": "execute_result"
    }
   ],
   "source": [
    "data.uniprot.unique()"
   ]
  },
  {
   "cell_type": "code",
   "execution_count": 45,
   "metadata": {},
   "outputs": [
    {
     "name": "stdout",
     "output_type": "stream",
     "text": [
      "Bla 1 288\n",
      "Kka2 1 264\n",
      "Uba1 2 76\n",
      "PSD95pdz3 311 393\n",
      "Pab1 126 200\n",
      "Yap65 170 203\n",
      "Uba1 40 76\n",
      "Hsp90 582 590\n",
      "Gb1 228 282\n"
     ]
    }
   ],
   "source": [
    "## Checking Positions Required\n",
    "\n",
    "## Beta Lactamase\n",
    "position1 = data[data.uniprot == 'P62593'].position.unique()\n",
    "print('Bla', min(position1), max(position1))\n",
    "\n",
    "## Kka2\n",
    "position1 = data[data.uniprot == 'P00552'].position.unique()\n",
    "print('Kka2', min(position1), max(position1))\n",
    "\n",
    "## Uba1\n",
    "position1 = data[data.uniprot == 'P0CG48'].position.unique()\n",
    "print('Uba1', min(position1), max(position1))\n",
    "\n",
    "## PSD95pdz3\n",
    "position1 = data[data.uniprot == 'P31016'].position.unique()\n",
    "print('PSD95pdz3', min(position1), max(position1))\n",
    "\n",
    "## Pab1\n",
    "position1 = data[data.uniprot == 'P04147'].position.unique()\n",
    "print('Pab1', min(position1), max(position1))\n",
    "\n",
    "# Yap65\n",
    "position1 = data[data.uniprot == 'P46937'].position.unique()\n",
    "print('Yap65', min(position1), max(position1))\n",
    "\n",
    "## Uba1 -2\n",
    "position1 = data[data.uniprot == 'P0CG63'].position.unique()\n",
    "print('Uba1', min(position1), max(position1))\n",
    "\n",
    "## hsp90\n",
    "position1 = data[data.uniprot == 'P02829'].position.unique()\n",
    "print('Hsp90', min(position1), max(position1))\n",
    "\n",
    "## Gb1\n",
    "position1 = data[data.uniprot == 'P06654'].position.unique()\n",
    "print('Gb1', min(position1), max(position1))"
   ]
  },
  {
   "cell_type": "code",
   "execution_count": null,
   "metadata": {},
   "outputs": [],
   "source": []
  }
 ],
 "metadata": {
  "kernelspec": {
   "display_name": "Python 3",
   "language": "python",
   "name": "python3"
  },
  "language_info": {
   "codemirror_mode": {
    "name": "ipython",
    "version": 3
   },
   "file_extension": ".py",
   "mimetype": "text/x-python",
   "name": "python",
   "nbconvert_exporter": "python",
   "pygments_lexer": "ipython3",
   "version": "3.7.3"
  }
 },
 "nbformat": 4,
 "nbformat_minor": 4
}
