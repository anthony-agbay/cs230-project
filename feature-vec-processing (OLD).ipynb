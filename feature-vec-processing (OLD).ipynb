{
 "cells": [
  {
   "cell_type": "markdown",
   "metadata": {},
   "source": [
    "# NOTE: OLD NOTEBOOK - KEPT FOR REFERENCE - SEE NEWER NOTEBOOK"
   ]
  },
  {
   "cell_type": "code",
   "execution_count": 1,
   "metadata": {},
   "outputs": [],
   "source": [
    "import pandas as pd"
   ]
  },
  {
   "cell_type": "markdown",
   "metadata": {},
   "source": [
    "# Feature Vector Processing\n",
    "This notebook is dedicatd to processing the feature vector outputs from FEATURE.\n",
    "\n",
    "FEATURE outputs are generally a a count of nearby items within a specified shell. Therefore, you can sum each atom together and get the total microenvironment around a residue.\n",
    "- Don't want to just use the C-alpha because that would loose important microenvironment information for large, bulky residues.\n",
    "\n",
    "### Things that need to be done:\n",
    "\n",
    "- [x] Create feature vector header parser (Need for 1 shell and extension to n shells)\n",
    "- [x] Collapse multiple atoms into a single residue value"
   ]
  },
  {
   "cell_type": "markdown",
   "metadata": {},
   "source": [
    "## Processing Functions and Storage"
   ]
  },
  {
   "cell_type": "code",
   "execution_count": 45,
   "metadata": {},
   "outputs": [],
   "source": [
    "### Basic Column Headers ###\n",
    "column_headers = []\n",
    "fp = open('feature-vector-comments.md')\n",
    "for line in fp:\n",
    "    header_item = [item.replace(',','').lower() for item in line.split()]\n",
    "    header_item.remove('properties')\n",
    "    column_headers.extend(header_item)\n",
    "fp.close()\n",
    "\n",
    "### Valid Residues ###\n",
    "valid_resid = {'ala', 'arg', 'asn', 'asp',\n",
    "               'cys', 'gln', 'glu', 'gly',\n",
    "               'his', 'ile', 'leu', 'lys',\n",
    "               'met', 'phe', 'pro', 'ser',\n",
    "               'thr', 'trp', 'tyr', 'val'\n",
    "               }\n",
    "\n",
    "### Mapping from Protein Name to PDB Structure ###\n",
    "prot_pdb_dict = {'TEM-1': '1btl',\n",
    "                 'Kka2': '1nd4',\n",
    "                 'Uba1': '6dc6',\n",
    "                 'PSD95pdz3': '1TP3',\n",
    "                 'Pab1': '1IFW',\n",
    "                 'Yap65': '1jmq',\n",
    "                 'hsp90': '2xjx',\n",
    "                 'gb1': '2qmt'\n",
    "                }\n",
    "\n",
    "def extend_columns(n):\n",
    "    \"\"\" Duplicates basic columns and adds shell number indicator\n",
    "    \"\"\"\n",
    "\n",
    "    final_headers = []\n",
    "    for i in range(n):\n",
    "        temp_headers = [header + '_' + str(i + 1) for header in column_headers]\n",
    "        final_headers.extend(temp_headers)\n",
    "    return(final_headers)\n",
    "\n",
    "def gen_headers(n):\n",
    "    \"\"\" Generates list of pandas headers for FEATURE vector data\n",
    "    \"\"\"\n",
    "\n",
    "    new_headers = ['env_name']\n",
    "    extend_headers = extend_columns(n)\n",
    "    new_headers.extend(extend_headers)\n",
    "    new_headers.append('residue')\n",
    "    return(new_headers)\n",
    "\n",
    "def drop_coordinates(df):\n",
    "    \"\"\" Drops coordinate/position columns from FEATURE vector data\n",
    "    \"\"\"\n",
    "\n",
    "    num_cols = len(df.columns)\n",
    "    start = num_cols - 6\n",
    "    stop = num_cols - 1\n",
    "    cols_to_delete = list(range(start,stop))\n",
    "    df.drop(cols_to_delete, axis = 1, inplace = True)\n",
    "\n",
    "def get_pdb(row):\n",
    "    \"\"\" Extracts PDB from environment description column\n",
    "    \"\"\"\n",
    "\n",
    "    env_name = row['env_name']\n",
    "    if '1btl' in env_name:\n",
    "        return('1btl')\n",
    "    if '1nd4' in env_name:\n",
    "        return('1nd4')\n",
    "    if '6dc6' in env_name:\n",
    "        return('6dc6')\n",
    "    if '1tp3' in env_name:\n",
    "        return('1tp3')\n",
    "    if '1ifw' in env_name:\n",
    "        return('1if2')\n",
    "    if '1jmq' in env_name:\n",
    "        return('1jmq')\n",
    "    if '2xjx' in env_name:\n",
    "        return('2xjx')\n",
    "    if '2qmt' in env_name:\n",
    "        return('2qmt')\n",
    "\n",
    "def prot_to_pdb(row):\n",
    "    \"\"\" Maps protein identifier to PDB accession number to create new column\n",
    "    \"\"\"\n",
    "\n",
    "    return(prot_pdb_dict[row['protein']])\n",
    "\n",
    "def get_resnum(row):\n",
    "    \"\"\" Extracts residue number from the res column in FEATURE vector data\n",
    "    \"\"\"\n",
    "\n",
    "    value = row['res']\n",
    "    return(int(value[3:]))\n",
    "\n",
    "def get_resid(row):\n",
    "    \"\"\" Extracts residue ID from res column in FEATURE vector data\n",
    "    \"\"\"\n",
    "\n",
    "    value = row['res']\n",
    "    return(value[:3].lower())\n",
    "\n",
    "## Clean atom string\n",
    "def clean_atom(row):\n",
    "    \"\"\" Removes extraneous characters from atom description\n",
    "    \"\"\"\n",
    "    \n",
    "    return(row['atom'][2:])"
   ]
  },
  {
   "cell_type": "markdown",
   "metadata": {},
   "source": [
    "## Single Shell (pdb-shell1.ff)"
   ]
  },
  {
   "cell_type": "code",
   "execution_count": 46,
   "metadata": {},
   "outputs": [],
   "source": [
    "## Basic Processing\n",
    "shell1_path = 'data/feature-files/pdb-shell1.ff'\n",
    "shell1 = pd.read_csv(shell1_path, sep='\\t', header=None)\n",
    "drop_coordinates(shell1)\n",
    "shell1.columns = gen_headers(1)\n",
    "\n",
    "# Generate better descriptive columns\n",
    "shell1['pdb'] = shell1.apply(lambda row: get_pdb(row), axis=1)\n",
    "shell1[['res', 'atom']] = shell1.residue.str.split(\":\",expand=True)\n",
    "shell1['resnum'] = shell1.apply(lambda row: get_resnum(row), axis=1)\n",
    "shell1['resid'] = shell1.apply(lambda row: get_resid(row), axis=1)\n",
    "shell1['atom'] = shell1.apply(lambda row: clean_atom(row), axis=1)"
   ]
  },
  {
   "cell_type": "code",
   "execution_count": 47,
   "metadata": {},
   "outputs": [],
   "source": [
    "# Filtering and Aggregating\n",
    "shell1_agg = shell1.groupby(['pdb', 'resnum', 'resid']).sum().reset_index()\n",
    "shell1_filt = shell1_agg[shell1_agg.resid.isin(valid_resid)]"
   ]
  },
  {
   "cell_type": "code",
   "execution_count": 48,
   "metadata": {},
   "outputs": [
    {
     "data": {
      "text/plain": [
       "array(['his', 'pro', 'glu', 'thr', 'leu', 'val', 'lys', 'asp', 'ala',\n",
       "       'gln', 'gly', 'arg', 'tyr', 'ile', 'asn', 'ser', 'phe', 'met',\n",
       "       'cys', 'trp'], dtype=object)"
      ]
     },
     "execution_count": 48,
     "metadata": {},
     "output_type": "execute_result"
    }
   ],
   "source": [
    "shell1_filt.resid.unique()"
   ]
  },
  {
   "cell_type": "code",
   "execution_count": 97,
   "metadata": {},
   "outputs": [
    {
     "data": {
      "text/plain": [
       "0       False\n",
       "1       False\n",
       "2       False\n",
       "3       False\n",
       "4       False\n",
       "        ...  \n",
       "3109    False\n",
       "3110    False\n",
       "3111    False\n",
       "3112    False\n",
       "3113    False\n",
       "Name: pdb, Length: 2136, dtype: bool"
      ]
     },
     "execution_count": 97,
     "metadata": {},
     "output_type": "execute_result"
    }
   ],
   "source": [
    "## Double checking Residue Alignment\n",
    "\n",
    "## TEM-1\n",
    "proteins = ['1btl', '1nd4', '6dc6', '1tp3', '1ifw', '1jmq', '2xjx', '2qmt']\n",
    "\n",
    "shell1_filt.pdb == '2qmt'\n",
    "\n",
    "# for protein in proteins:\n",
    "#     position = sorted(shell1_filt[shell1_filt.pdb == protein].resnum.unique())\n",
    "#     print(protein, min(position), max(position))"
   ]
  },
  {
   "cell_type": "markdown",
   "metadata": {},
   "source": [
    "## 6 Shell (Default) (pdb-shell4.ff)"
   ]
  },
  {
   "cell_type": "code",
   "execution_count": 49,
   "metadata": {},
   "outputs": [],
   "source": [
    "### Basic Data Processing ###\n",
    "\n",
    "shell6_path = 'data/feature-files/pdb-shell6.ff'\n",
    "shell6= pd.read_csv(shell6_path, sep='\\t', header=None)\n",
    "drop_coordinates(shell6)\n",
    "shell6.columns = gen_headers(6)\n",
    "\n",
    "shell6['pdb'] = shell6.apply(lambda row: get_pdb(row), axis=1)\n",
    "shell6[['res', 'atom']] = shell6.residue.str.split(\":\",expand=True)\n",
    "shell6['resnum'] = shell6.apply(lambda row: get_resnum(row), axis=1)\n",
    "shell6['resid'] = shell6.apply(lambda row: get_resid(row), axis=1)\n",
    "shell6['atom'] = shell6.apply(lambda row: clean_atom(row), axis=1)"
   ]
  },
  {
   "cell_type": "code",
   "execution_count": 50,
   "metadata": {},
   "outputs": [],
   "source": [
    "### Filtering and Aggregation ###\n",
    "shell6_agg = shell6.groupby(['pdb', 'resnum', 'resid']).sum().reset_index()\n",
    "shell6_filt = shell6_agg[shell6_agg.resid.isin(valid_resid)]"
   ]
  },
  {
   "cell_type": "markdown",
   "metadata": {},
   "source": [
    "# Merging Features\n",
    "\n",
    "In this feature merge, I assume that the calculation of the local microenvironments calculated by FEATURE will be identical for each mutation at a specific residue. While not strictly true due to mutations introducing *some* changes in the environment, this is the best model without relying on molecular simulation to relax mutated structures (see Rosetta)."
   ]
  },
  {
   "cell_type": "code",
   "execution_count": 55,
   "metadata": {},
   "outputs": [],
   "source": [
    "# Load Dataset \n",
    "main_data_path = 'data/mmc2.csv'\n",
    "main_data = pd.read_csv(main_data_path)\n",
    "main_data['pdb'] = main_data.apply(lambda row: prot_to_pdb(row), axis=1)\n",
    "main_data.rename(columns = {'position':'resnum'}, inplace=True)"
   ]
  },
  {
   "cell_type": "code",
   "execution_count": 56,
   "metadata": {},
   "outputs": [],
   "source": [
    "## Removing Redundant or Bad Columns\n",
    "main_data.drop(['local_density', 'accessibility','local_biochem', 'mut_mut_msa_congruency'],axis=1, inplace=True)\n",
    "main_data.drop(['variant_id', 'position_id', 'dms_id', 'uniprot', 'predicted?'], axis=1, inplace=True)\n",
    "main_data.dropna(subset=['scaled_effect'], inplace=True)\n",
    "main_data.dropna(subset=['aa2_psic'], inplace=True)\n",
    "main_data['dssp_sec_str'].replace('.', 'O', inplace=True)\n",
    "main_data['dssp_sec_str'].fillna('O', inplace=True)\n",
    "main_data['phi_psi_reg'].fillna('O', inplace=True)\n",
    "main_data['wt_mut'].fillna('NA', inplace=True)\n",
    "main_data.fillna(0, inplace=True)"
   ]
  },
  {
   "cell_type": "code",
   "execution_count": 57,
   "metadata": {},
   "outputs": [
    {
     "data": {
      "text/plain": [
       "array(['TEM-1', 'Kka2', 'Uba1', 'PSD95pdz3', 'Pab1', 'Yap65', 'hsp90',\n",
       "       'gb1'], dtype=object)"
      ]
     },
     "execution_count": 57,
     "metadata": {},
     "output_type": "execute_result"
    }
   ],
   "source": [
    "main_data.protein.unique()"
   ]
  },
  {
   "cell_type": "code",
   "execution_count": 58,
   "metadata": {},
   "outputs": [],
   "source": [
    "main_update = pd.get_dummies(main_data,columns=['aa1', 'aa2', 'wt_mut', 'aa1_polarity', 'aa2_polarity', 'dssp_sec_str', 'phi_psi_reg'])"
   ]
  },
  {
   "cell_type": "code",
   "execution_count": 73,
   "metadata": {
    "tags": [
     "outputPrepend"
    ]
   },
   "outputs": [
    {
     "data": {
      "text/plain": [
       "array(['1btl', '1nd4', '6dc6', '1TP3', '1IFW', '1jmq', '2xjx', '2qmt'],\n",
       "      dtype=object)"
      ]
     },
     "execution_count": 73,
     "metadata": {},
     "output_type": "execute_result"
    }
   ],
   "source": [
    "# main_update.info(verbose=True)\n",
    "main_update.protein.unique()\n",
    "main_update.shape\n",
    "main_update.pdb.unique()"
   ]
  },
  {
   "cell_type": "code",
   "execution_count": 69,
   "metadata": {},
   "outputs": [
    {
     "data": {
      "text/plain": [
       "array(['1btl', '1if2', '1jmq', '1nd4', '1tp3', '2qmt', '2xjx', '6dc6'],\n",
       "      dtype=object)"
      ]
     },
     "execution_count": 69,
     "metadata": {},
     "output_type": "execute_result"
    }
   ],
   "source": [
    "shell1_filt.pdb.unique()"
   ]
  },
  {
   "cell_type": "code",
   "execution_count": 84,
   "metadata": {},
   "outputs": [],
   "source": [
    "# Merge FEATURE Vectors into main dataset\n",
    "merged_shell1 = pd.merge(shell1_filt, main_update, on=['pdb', 'resnum'], how='right')\n",
    "# merged_shell6 = pd.merge(main_update,shell6_filt, on=['pdb', 'resnum'])"
   ]
  },
  {
   "cell_type": "code",
   "execution_count": 79,
   "metadata": {},
   "outputs": [
    {
     "name": "stdout",
     "output_type": "stream",
     "text": [
      "['TEM-1' 'Kka2' 'Uba1' 'PSD95pdz3' 'Pab1' 'Yap65' 'hsp90' 'gb1']\n",
      "['TEM-1' 'Kka2' 'Uba1']\n"
     ]
    },
    {
     "data": {
      "text/plain": [
       "array(['1btl', '1nd4', '6dc6', '1TP3', '1IFW', '1jmq', '2xjx', '2qmt'],\n",
       "      dtype=object)"
      ]
     },
     "execution_count": 79,
     "metadata": {},
     "output_type": "execute_result"
    }
   ],
   "source": [
    "print(merged_shell1.protein.unique())\n",
    "print(merged_shell6.protein.unique())\n",
    "merged_shell1.shape\n",
    "merged_shell1.pdb.unique()"
   ]
  },
  {
   "cell_type": "code",
   "execution_count": 85,
   "metadata": {},
   "outputs": [],
   "source": [
    "merged_shell1.to_csv('data/merged_shell1.csv')\n",
    "merged_shell6.to_csv('data/merged_shell6.csv')"
   ]
  },
  {
   "cell_type": "code",
   "execution_count": null,
   "metadata": {},
   "outputs": [],
   "source": []
  }
 ],
 "metadata": {
  "kernelspec": {
   "display_name": "Python 3",
   "language": "python",
   "name": "python3"
  },
  "language_info": {
   "codemirror_mode": {
    "name": "ipython",
    "version": 3
   },
   "file_extension": ".py",
   "mimetype": "text/x-python",
   "name": "python",
   "nbconvert_exporter": "python",
   "pygments_lexer": "ipython3",
   "version": "3.7.3"
  }
 },
 "nbformat": 4,
 "nbformat_minor": 4
}