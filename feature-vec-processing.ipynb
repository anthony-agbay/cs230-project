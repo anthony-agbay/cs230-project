{
 "cells": [
  {
   "cell_type": "markdown",
   "metadata": {},
   "source": [
    "# FEATURE Vector Processing\n",
    "This notebook is dedicated to processing FEATURE vector data into a single, cleaned dataset with neccessary overlap to merge with the original dataset (PDB accession number and residue number).\n",
    "\n",
    "FEATURE outputs are generally a a count of nearby items within a specified shell. Therefore, you can sum each atom together and get the total microenvironment around a residue.\n",
    "- Don't want to just use the C-alpha because that would loose important microenvironment information for large, bulky residues."
   ]
  },
  {
   "cell_type": "code",
   "execution_count": 2,
   "metadata": {},
   "outputs": [],
   "source": [
    "import pandas as pd"
   ]
  },
  {
   "cell_type": "markdown",
   "metadata": {},
   "source": [
    "## Helpful Processing Functions and Data"
   ]
  },
  {
   "cell_type": "code",
   "execution_count": 27,
   "metadata": {},
   "outputs": [],
   "source": [
    "### Basic Column Headers ###\n",
    "column_headers = []\n",
    "fp = open('feature-vector-comments.md')\n",
    "for line in fp:\n",
    "    header_item = [item.replace(',','').lower() for item in line.split()]\n",
    "    header_item.remove('properties')\n",
    "    column_headers.extend(header_item)\n",
    "fp.close()\n",
    "\n",
    "### Valid Residues ###\n",
    "valid_resid = {'ala', 'arg', 'asn', 'asp',\n",
    "               'cys', 'gln', 'glu', 'gly',\n",
    "               'his', 'ile', 'leu', 'lys',\n",
    "               'met', 'phe', 'pro', 'ser',\n",
    "               'thr', 'trp', 'tyr', 'val'\n",
    "               }\n",
    "\n",
    "### Mapping Protein -> PDB ###\n",
    "prot_pdb_dict = {'TEM-1': '1xpb',\n",
    "                 'Kka2': '1nd4',\n",
    "                 'Uba1': '3cmm',\n",
    "                 'PSD95pdz3': '1be9',\n",
    "                 'Pab1': '1cvj',\n",
    "                 'Yap65': '1jmq',\n",
    "                 'hsp90': '2cg9',\n",
    "                 'gb1': '1pga'\n",
    "                }\n",
    "\n",
    "### Helper Function Definitions\n",
    "\n",
    "def extend_columns(n):\n",
    "    \"\"\" Duplicates basic columns and adds shell number indicator\n",
    "    \"\"\"\n",
    "\n",
    "    final_headers = []\n",
    "    for i in range(n):\n",
    "        temp_headers = [header + '_' + str(i + 1) for header in column_headers]\n",
    "        final_headers.extend(temp_headers)\n",
    "    return(final_headers)\n",
    "\n",
    "def gen_headers(n):\n",
    "    \"\"\" Generates list of pandas headers for FEATURE vector data\n",
    "    \"\"\"\n",
    "\n",
    "    new_headers = ['env_name']\n",
    "    extend_headers = extend_columns(n)\n",
    "    new_headers.extend(extend_headers)\n",
    "    new_headers.append('res_atom')\n",
    "    return(new_headers)\n",
    "\n",
    "def drop_coordinates(df):\n",
    "    \"\"\" Drops coordinate/position columns from FEATURE vector data\n",
    "    \"\"\"\n",
    "\n",
    "    num_cols = len(df.columns)\n",
    "    start = num_cols - 6\n",
    "    stop = num_cols - 1\n",
    "    cols_to_delete = list(range(start,stop))\n",
    "    df.drop(cols_to_delete, axis = 1, inplace = True)\n",
    "\n",
    "def prot_to_pdb(row):\n",
    "    \"\"\" Maps protein identifier to PDB accession number to create new column\n",
    "    \"\"\"\n",
    "\n",
    "    return(prot_pdb_dict[row['protein']])\n",
    "\n",
    "def get_resnum(row):\n",
    "    \"\"\" Extracts residue number from the res column in FEATURE vector data\n",
    "    \"\"\"\n",
    "\n",
    "    value = row['res']\n",
    "    return(int(value[3:]))\n",
    "\n",
    "def get_resid(row):\n",
    "    \"\"\" Extracts residue ID from res column in FEATURE vector data\n",
    "    \"\"\"\n",
    "\n",
    "    value = row['res']\n",
    "    return(value[:3].lower())\n",
    "\n",
    "## Clean atom string\n",
    "def clean_atom(row):\n",
    "    \"\"\" Removes extraneous characters from atom description\n",
    "    \"\"\"\n",
    "    \n",
    "    return(row['atom'][2:])"
   ]
  },
  {
   "cell_type": "markdown",
   "metadata": {},
   "source": [
    "## Initial Feature Vector Processing\n",
    "- Reading in from .ff file\n",
    "- Extracting PDB, residue, and atom information\n",
    "- Cleaning PDB, residue, and atom information (select specific chains)"
   ]
  },
  {
   "cell_type": "code",
   "execution_count": 57,
   "metadata": {},
   "outputs": [
    {
     "output_type": "stream",
     "name": "stdout",
     "text": "1xpb\n1nd4\n3cmm\n1be9\n1cvj\n1jmq\n2cg9\n1pga\n"
    }
   ],
   "source": [
    "num_shells = 6\n",
    "feature_list = dict()\n",
    "\n",
    "for pdb in prot_pdb_dict.values():\n",
    "    #DEBUG: Print current PDB\n",
    "    print(pdb)\n",
    "\n",
    "    # Basic Processing\n",
    "    feature_path = 'data/feature-files/{}.ff'.format(pdb)\n",
    "    feature_data = pd.read_csv(feature_path, sep ='\\t', header=None)\n",
    "    drop_coordinates(feature_data)\n",
    "\n",
    "\n",
    "    feature_data.columns = gen_headers(num_shells)\n",
    "\n",
    "    ## Parse Residue/Atom Information ##\n",
    "    feature_data[['res', 'atom_temp']] = feature_data.res_atom.str.split(':',expand=True)\n",
    "    feature_data[['chain','atom']] = feature_data.atom_temp.str.split('@',expand=True)\n",
    "    feature_data['resnum'] = feature_data.apply(lambda row: get_resnum(row), axis=1)\n",
    "    feature_data['resid'] = feature_data.apply(lambda row: get_resid(row), axis=1)\n",
    "    feature_data.drop(['res_atom', 'res', 'atom_temp', 'env_name'], axis=1, inplace=True)\n",
    "\n",
    "    ## Reparse PDB Information ##\n",
    "    feature_data['pdb'] = pdb\n",
    "\n",
    "    ## Filtering ##\n",
    "    # Non-AA residues\n",
    "    feature_data = feature_data[feature_data.resid.isin(valid_resid)]\n",
    "\n",
    "    # Extra Chains\n",
    "    feature_data = feature_data[feature_data.chain == 'A']\n",
    "\n",
    "    # Aggregate atom microenvironments into residue microenvironments\n",
    "    feature_data = feature_data.groupby(['pdb', 'resnum']).sum().reset_index()\n",
    "    feature_list[pdb] = feature_data\n",
    "\n",
    "# Generate Final Feature Dataset\n",
    "feature_merged = pd.concat(feature_list)\n",
    "feature_merged.to_csv('data/feature-files/feature_merged.csv')"
   ]
  },
  {
   "cell_type": "code",
   "execution_count": 59,
   "metadata": {},
   "outputs": [
    {
     "output_type": "execute_result",
     "data": {
      "text/plain": "(2514, 482)"
     },
     "metadata": {},
     "execution_count": 59
    }
   ],
   "source": [
    "feature_merged.shape"
   ]
  }
 ],
 "metadata": {
  "kernelspec": {
   "display_name": "Python 3.7.3 64-bit ('anaconda3': virtualenv)",
   "language": "python",
   "name": "python37364bitanaconda3virtualenv1d4a4baed58f421a96cc972c6a47bae3"
  },
  "language_info": {
   "codemirror_mode": {
    "name": "ipython",
    "version": 3
   },
   "file_extension": ".py",
   "mimetype": "text/x-python",
   "name": "python",
   "nbconvert_exporter": "python",
   "pygments_lexer": "ipython3",
   "version": "3.7.3-final"
  }
 },
 "nbformat": 4,
 "nbformat_minor": 4
}