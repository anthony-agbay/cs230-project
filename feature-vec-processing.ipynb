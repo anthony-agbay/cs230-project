{
 "cells": [
  {
   "cell_type": "code",
   "execution_count": 2,
   "metadata": {},
   "outputs": [],
   "source": [
    "import pandas as pd"
   ]
  },
  {
   "cell_type": "markdown",
   "metadata": {},
   "source": [
    "# Feature Vector Processing\n",
    "This notebook is dedicatd to processing the feature vector outputs from FEATURE.\n",
    "\n",
    "FEATURE outputs are generally a a count of nearby items within a specified shell. Therefore, you can sum each atom together and get the total microenvironment around a residue.\n",
    "- Don't want to just use the C-alpha because that would loose important microenvironment information for large, bulky residues.\n",
    "\n",
    "### Things that need to be done:\n",
    "\n",
    "- [x] Create feature vector header parser (Need for 1 shell and extension to n shells)\n",
    "- [ ] Collapse multiple atoms into a single residue valueFEATURE outputs are generally a a count of nearby items within a specified shell. Therefore, you can sum each atom together and get the total microenvironment around a residue.\n",
    "- Don't want to just use the C-alpha because that would loose important microenvironment information for large, bulky residues."
   ]
  },
  {
   "cell_type": "markdown",
   "metadata": {},
   "source": [
    "## Processing Functions and Storage"
   ]
  },
  {
   "cell_type": "code",
   "execution_count": 3,
   "metadata": {},
   "outputs": [],
   "source": [
    "### Basic Column Headers ###\n",
    "column_headers = []\n",
    "fp = open('feature-vector-comments.md')\n",
    "for line in fp:\n",
    "    header_item = [item.replace(',','').lower() for item in line.split()]\n",
    "    header_item.remove('properties')\n",
    "    column_headers.extend(header_item)\n",
    "fp.close()\n",
    "\n",
    "### Valid Residues ###\n",
    "valid_resid = {'ala', 'arg', 'asn', 'asp',\n",
    "               'cys', 'gln', 'glu', 'gly',\n",
    "               'his', 'ile', 'leu', 'lys',\n",
    "               'met', 'phe', 'pro', 'ser',\n",
    "               'thr', 'trp', 'tyr', 'val'}\n",
    "\n",
    "## Extend column headers for n shells?\n",
    "def extend_columns(n):\n",
    "    \"\"\" Duplicates columns and adds shell number indicator\n",
    "    \"\"\"\n",
    "    final_headers = []\n",
    "    for i in range(n):\n",
    "        temp_headers = [header + '_' + str(i + 1) for header in column_headers]\n",
    "        final_headers.extend(temp_headers)\n",
    "    return(final_headers)\n",
    "\n",
    "def gen_headers(n):\n",
    "    new_headers = ['env_name']\n",
    "    extend_headers = extend_columns(n)\n",
    "    new_headers.extend(extend_headers)\n",
    "    new_headers.append('residue')\n",
    "    return(new_headers)\n",
    "\n",
    "def drop_coordinates(df):\n",
    "    num_cols = len(df.columns)\n",
    "    start = num_cols - 6\n",
    "    stop = num_cols - 1\n",
    "    cols_to_delete = list(range(start,stop))\n",
    "    df.drop(cols_to_delete, axis = 1, inplace = True)\n",
    "\n",
    "## Extract PDB from environment description column\n",
    "def get_pdb(row):\n",
    "    env_name = row['env_name']\n",
    "    if '1btl' in env_name:\n",
    "        return('1btl')\n",
    "    if '1nd4' in env_name:\n",
    "        return('1nd4')\n",
    "    if '6dc6' in env_name:\n",
    "        return('6dc6')\n",
    "    if '1tp3' in env_name:\n",
    "        return('1tp3')\n",
    "    if '1ifw' in env_name:\n",
    "        return('1if2')\n",
    "    if '1jmq' in env_name:\n",
    "        return('1jmq')\n",
    "    if '2xjx' in env_name:\n",
    "        return('2xjx')\n",
    "    if '2qmt' in env_name:\n",
    "        return('2qmt')\n",
    "\n",
    "## Extract Residue Number from res column\n",
    "def get_resnum(row):\n",
    "    value = row['res']\n",
    "    return(int(value[3:]))\n",
    "\n",
    "## Extract residue id from res column\n",
    "def get_resid(row):\n",
    "    value = row['res']\n",
    "    return(value[:3].lower())\n",
    "\n",
    "## Clean atom string\n",
    "def clean_atom(row):\n",
    "    return(row['atom'][2:])"
   ]
  },
  {
   "cell_type": "markdown",
   "metadata": {},
   "source": [
    "## Single Shell (pdb-shell1.ff)"
   ]
  },
  {
   "cell_type": "code",
   "execution_count": 5,
   "metadata": {},
   "outputs": [
    {
     "output_type": "execute_result",
     "data": {
      "text/plain": "     env_name  atom_type_is_c_1  atom_type_is_ct_1  atom_type_is_ca_1  \\\n0  Env_1btl_0                 2                  3                  1   \n1  Env_1btl_1                 1                  4                  2   \n2  Env_1btl_2                 2                  6                  1   \n3  Env_1btl_3                 3                  6                  1   \n4  Env_1btl_4                 1                  4                  3   \n\n   atom_type_is_n_1  atom_type_is_n2_1  atom_type_is_n3_1  atom_type_is_na_1  \\\n0                 2                  0                  0                  0   \n1                 2                  0                  0                  1   \n2                 4                  0                  0                  1   \n3                 5                  0                  0                  0   \n4                 2                  0                  0                  2   \n\n   atom_type_is_o_1  atom_type_is_o2_1  ...  secondary_structure2_is_beta_1  \\\n0                 1                  1  ...                               3   \n1                 1                  1  ...                               1   \n2                 1                  1  ...                               1   \n3                 2                  1  ...                               1   \n4                 1                  0  ...                               1   \n\n   secondary_structure2_is_coil_1  secondary_structure2_is_het_1  \\\n0                               6                              0   \n1                               8                              0   \n2                               7                              0   \n3                               6                              0   \n4                              10                              0   \n\n   secondary_structure2_is_unknown_1     residue   pdb    res  atom  resnum  \\\n0                                  0   HIS26:A@N  1btl  HIS26     N      26   \n1                                  0  HIS26:A@CA  1btl  HIS26    CA      26   \n2                                  0   HIS26:A@C  1btl  HIS26     C      26   \n3                                  0   HIS26:A@O  1btl  HIS26     O      26   \n4                                  0  HIS26:A@CB  1btl  HIS26    CB      26   \n\n   resid  \n0    his  \n1    his  \n2    his  \n3    his  \n4    his  \n\n[5 rows x 87 columns]",
      "text/html": "<div>\n<style scoped>\n    .dataframe tbody tr th:only-of-type {\n        vertical-align: middle;\n    }\n\n    .dataframe tbody tr th {\n        vertical-align: top;\n    }\n\n    .dataframe thead th {\n        text-align: right;\n    }\n</style>\n<table border=\"1\" class=\"dataframe\">\n  <thead>\n    <tr style=\"text-align: right;\">\n      <th></th>\n      <th>env_name</th>\n      <th>atom_type_is_c_1</th>\n      <th>atom_type_is_ct_1</th>\n      <th>atom_type_is_ca_1</th>\n      <th>atom_type_is_n_1</th>\n      <th>atom_type_is_n2_1</th>\n      <th>atom_type_is_n3_1</th>\n      <th>atom_type_is_na_1</th>\n      <th>atom_type_is_o_1</th>\n      <th>atom_type_is_o2_1</th>\n      <th>...</th>\n      <th>secondary_structure2_is_beta_1</th>\n      <th>secondary_structure2_is_coil_1</th>\n      <th>secondary_structure2_is_het_1</th>\n      <th>secondary_structure2_is_unknown_1</th>\n      <th>residue</th>\n      <th>pdb</th>\n      <th>res</th>\n      <th>atom</th>\n      <th>resnum</th>\n      <th>resid</th>\n    </tr>\n  </thead>\n  <tbody>\n    <tr>\n      <th>0</th>\n      <td>Env_1btl_0</td>\n      <td>2</td>\n      <td>3</td>\n      <td>1</td>\n      <td>2</td>\n      <td>0</td>\n      <td>0</td>\n      <td>0</td>\n      <td>1</td>\n      <td>1</td>\n      <td>...</td>\n      <td>3</td>\n      <td>6</td>\n      <td>0</td>\n      <td>0</td>\n      <td>HIS26:A@N</td>\n      <td>1btl</td>\n      <td>HIS26</td>\n      <td>N</td>\n      <td>26</td>\n      <td>his</td>\n    </tr>\n    <tr>\n      <th>1</th>\n      <td>Env_1btl_1</td>\n      <td>1</td>\n      <td>4</td>\n      <td>2</td>\n      <td>2</td>\n      <td>0</td>\n      <td>0</td>\n      <td>1</td>\n      <td>1</td>\n      <td>1</td>\n      <td>...</td>\n      <td>1</td>\n      <td>8</td>\n      <td>0</td>\n      <td>0</td>\n      <td>HIS26:A@CA</td>\n      <td>1btl</td>\n      <td>HIS26</td>\n      <td>CA</td>\n      <td>26</td>\n      <td>his</td>\n    </tr>\n    <tr>\n      <th>2</th>\n      <td>Env_1btl_2</td>\n      <td>2</td>\n      <td>6</td>\n      <td>1</td>\n      <td>4</td>\n      <td>0</td>\n      <td>0</td>\n      <td>1</td>\n      <td>1</td>\n      <td>1</td>\n      <td>...</td>\n      <td>1</td>\n      <td>7</td>\n      <td>0</td>\n      <td>0</td>\n      <td>HIS26:A@C</td>\n      <td>1btl</td>\n      <td>HIS26</td>\n      <td>C</td>\n      <td>26</td>\n      <td>his</td>\n    </tr>\n    <tr>\n      <th>3</th>\n      <td>Env_1btl_3</td>\n      <td>3</td>\n      <td>6</td>\n      <td>1</td>\n      <td>5</td>\n      <td>0</td>\n      <td>0</td>\n      <td>0</td>\n      <td>2</td>\n      <td>1</td>\n      <td>...</td>\n      <td>1</td>\n      <td>6</td>\n      <td>0</td>\n      <td>0</td>\n      <td>HIS26:A@O</td>\n      <td>1btl</td>\n      <td>HIS26</td>\n      <td>O</td>\n      <td>26</td>\n      <td>his</td>\n    </tr>\n    <tr>\n      <th>4</th>\n      <td>Env_1btl_4</td>\n      <td>1</td>\n      <td>4</td>\n      <td>3</td>\n      <td>2</td>\n      <td>0</td>\n      <td>0</td>\n      <td>2</td>\n      <td>1</td>\n      <td>0</td>\n      <td>...</td>\n      <td>1</td>\n      <td>10</td>\n      <td>0</td>\n      <td>0</td>\n      <td>HIS26:A@CB</td>\n      <td>1btl</td>\n      <td>HIS26</td>\n      <td>CB</td>\n      <td>26</td>\n      <td>his</td>\n    </tr>\n  </tbody>\n</table>\n<p>5 rows × 87 columns</p>\n</div>"
     },
     "metadata": {},
     "execution_count": 5
    }
   ],
   "source": [
    "## Basic Processing\n",
    "shell1_path = 'data/feature-files/pdb-shell1.ff'\n",
    "shell1 = pd.read_csv(shell1_path, sep='\\t', header=None)\n",
    "drop_coordinates(shell1)\n",
    "shell1.columns = gen_headers(1)\n",
    "\n",
    "# Generate better descriptive columns\n",
    "shell1['pdb'] = shell1.apply(lambda row: get_pdb(row), axis=1)\n",
    "shell1[['res', 'atom']] = shell1.residue.str.split(\":\",expand=True)\n",
    "shell1['resnum'] = shell1.apply(lambda row: get_resnum(row), axis=1)\n",
    "shell1['resid'] = shell1.apply(lambda row: get_resid(row), axis=1)\n",
    "shell1['atom'] = shell1.apply(lambda row: clean_atom(row), axis=1)"
   ]
  },
  {
   "cell_type": "code",
   "execution_count": 8,
   "metadata": {},
   "outputs": [],
   "source": [
    "# Filtering and Aggregating\n",
    "shell1_agg = shell1.groupby(['pdb', 'resnum', 'resid']).sum().reset_index()\n",
    "shell1_filt = shell1_agg[shell1.resid.isin(valid_resid)]"
   ]
  },
  {
   "cell_type": "code",
   "execution_count": 11,
   "metadata": {},
   "outputs": [
    {
     "output_type": "execute_result",
     "data": {
      "text/plain": "Index(['pdb', 'resnum', 'resid', 'atom_type_is_c_1', 'atom_type_is_ct_1',\n       'atom_type_is_ca_1', 'atom_type_is_n_1', 'atom_type_is_n2_1',\n       'atom_type_is_n3_1', 'atom_type_is_na_1', 'atom_type_is_o_1',\n       'atom_type_is_o2_1', 'atom_type_is_oh_1', 'atom_type_is_s_1',\n       'atom_type_is_sh_1', 'atom_type_is_other_1', 'partial_charge_1',\n       'element_is_any_1', 'element_is_c_1', 'element_is_n_1',\n       'element_is_o_1', 'element_is_s_1', 'element_is_other_1', 'hydroxyl_1',\n       'amide_1', 'amine_1', 'carbonyl_1', 'ring_system_1', 'peptide_1',\n       'vdw_volume_1', 'charge_1', 'neg_charge_1', 'pos_charge_1',\n       'charge_with_his_1', 'hydrophobicity_1', 'mobility_1',\n       'solvent_accessibility_1', 'residue_name_is_ala_1',\n       'residue_name_is_arg_1', 'residue_name_is_asn_1',\n       'residue_name_is_asp_1', 'residue_name_is_cys_1',\n       'residue_name_is_gln_1', 'residue_name_is_glu_1',\n       'residue_name_is_gly_1', 'residue_name_is_his_1',\n       'residue_name_is_ile_1', 'residue_name_is_leu_1',\n       'residue_name_is_lys_1', 'residue_name_is_met_1',\n       'residue_name_is_phe_1', 'residue_name_is_pro_1',\n       'residue_name_is_ser_1', 'residue_name_is_thr_1',\n       'residue_name_is_trp_1', 'residue_name_is_tyr_1',\n       'residue_name_is_val_1', 'residue_name_is_hoh_1',\n       'residue_name_is_other_1', 'residue_class1_is_hydrophobic_1',\n       'residue_class1_is_charged_1', 'residue_class1_is_polar_1',\n       'residue_class1_is_unknown_1', 'residue_class2_is_nonpolar_1',\n       'residue_class2_is_polar_1', 'residue_class2_is_basic_1',\n       'residue_class2_is_acidic_1', 'residue_class2_is_unknown_1',\n       'secondary_structure1_is_3helix_1', 'secondary_structure1_is_4helix_1',\n       'secondary_structure1_is_5helix_1', 'secondary_structure1_is_bridge_1',\n       'secondary_structure1_is_strand_1', 'secondary_structure1_is_turn_1',\n       'secondary_structure1_is_bend_1', 'secondary_structure1_is_coil_1',\n       'secondary_structure1_is_het_1', 'secondary_structure1_is_unknown_1',\n       'secondary_structure2_is_helix_1', 'secondary_structure2_is_beta_1',\n       'secondary_structure2_is_coil_1', 'secondary_structure2_is_het_1',\n       'secondary_structure2_is_unknown_1'],\n      dtype='object')"
     },
     "metadata": {},
     "execution_count": 11
    }
   ],
   "source": [
    "shell1_filt.columns"
   ]
  },
  {
   "cell_type": "markdown",
   "metadata": {},
   "source": [
    "## 4 Shell (Default) (pdb-shell4.ff)"
   ]
  },
  {
   "cell_type": "code",
   "execution_count": 27,
   "metadata": {},
   "outputs": [],
   "source": [
    "shell4_path = 'data/feature-files/pdb-shell4.ff'\n",
    "shell4= pd.read_csv(shell4_path, sep='\\t', header=None)\n",
    "drop_coordinates(shell4)"
   ]
  },
  {
   "cell_type": "code",
   "execution_count": 19,
   "metadata": {},
   "outputs": [
    {
     "name": "stdout",
     "output_type": "stream",
     "text": [
      "[481, 482, 483, 484, 485]\n"
     ]
    }
   ],
   "source": []
  },
  {
   "cell_type": "code",
   "execution_count": null,
   "metadata": {},
   "outputs": [],
   "source": []
  }
 ],
 "metadata": {
  "kernelspec": {
   "display_name": "Python 3",
   "language": "python",
   "name": "python3"
  },
  "language_info": {
   "codemirror_mode": {
    "name": "ipython",
    "version": 3
   },
   "file_extension": ".py",
   "mimetype": "text/x-python",
   "name": "python",
   "nbconvert_exporter": "python",
   "pygments_lexer": "ipython3",
   "version": "3.7.3-final"
  }
 },
 "nbformat": 4,
 "nbformat_minor": 4
}